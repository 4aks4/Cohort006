{
 "cells": [
  {
   "cell_type": "markdown",
   "metadata": {
    "id": "1ivPDcc7p8lD"
   },
   "source": [
    "# TASK #1. DEFINE A PANDAS SERIES"
   ]
  },
  {
   "cell_type": "code",
   "execution_count": 1,
   "metadata": {
    "executionInfo": {
     "elapsed": 2873,
     "status": "ok",
     "timestamp": 1618858274556,
     "user": {
      "displayName": "Stemplicity",
      "photoUrl": "https://lh3.googleusercontent.com/a-/AOh14Gj2vCFt-bD5mPBhUWX0QA6xiBgoXQXtwUm2jgjaCg=s64",
      "userId": "10668071569687886186"
     },
     "user_tz": 240
    },
    "id": "4YdCraz8p_XF"
   },
   "outputs": [],
   "source": [
    "# Pandas is a data manipulation and analysis tool that is built on Numpy.\n",
    "# Pandas uses a data structure known as DataFrame (think of it as Microsoft excel in Python). \n",
    "# DataFrames empower programmers to store and manipulate data in a tabular fashion (rows and columns).\n",
    "# Series Vs. DataFrame? Series is considered a single column of a DataFrame.\n",
    "\n",
    "import numpy as np\n",
    "import pandas as pd"
   ]
  },
  {
   "cell_type": "code",
   "execution_count": 2,
   "metadata": {
    "colab": {
     "base_uri": "https://localhost:8080/"
    },
    "executionInfo": {
     "elapsed": 2854,
     "status": "ok",
     "timestamp": 1618858274558,
     "user": {
      "displayName": "Stemplicity",
      "photoUrl": "https://lh3.googleusercontent.com/a-/AOh14Gj2vCFt-bD5mPBhUWX0QA6xiBgoXQXtwUm2jgjaCg=s64",
      "userId": "10668071569687886186"
     },
     "user_tz": 240
    },
    "id": "SA9m0RD3K2TF",
    "outputId": "26cc61d4-5858-4a5f-e1b8-e8b7dce26b31"
   },
   "outputs": [],
   "source": [
    "# Let's define a Python list that contains 5 crypto currencies \n",
    "crypto = [\"BTC\"\n",
    ",\"XRP\"\n",
    ",\"LTC\"\n",
    ",\"ADA\"\n",
    ",\"ETH\"]"
   ]
  },
  {
   "cell_type": "code",
   "execution_count": 3,
   "metadata": {
    "colab": {
     "base_uri": "https://localhost:8080/"
    },
    "executionInfo": {
     "elapsed": 2842,
     "status": "ok",
     "timestamp": 1618858274558,
     "user": {
      "displayName": "Stemplicity",
      "photoUrl": "https://lh3.googleusercontent.com/a-/AOh14Gj2vCFt-bD5mPBhUWX0QA6xiBgoXQXtwUm2jgjaCg=s64",
      "userId": "10668071569687886186"
     },
     "user_tz": 240
    },
    "id": "G-fooAckNafC",
    "outputId": "dedb005a-3e3a-4e3f-a9e3-f9a0fb91948a",
    "scrolled": true
   },
   "outputs": [
    {
     "data": {
      "text/plain": [
       "list"
      ]
     },
     "execution_count": 3,
     "metadata": {},
     "output_type": "execute_result"
    }
   ],
   "source": [
    "# Let's confirm the Datatype\n",
    "type(crypto)"
   ]
  },
  {
   "cell_type": "code",
   "execution_count": 4,
   "metadata": {
    "colab": {
     "base_uri": "https://localhost:8080/"
    },
    "executionInfo": {
     "elapsed": 2831,
     "status": "ok",
     "timestamp": 1618858274559,
     "user": {
      "displayName": "Stemplicity",
      "photoUrl": "https://lh3.googleusercontent.com/a-/AOh14Gj2vCFt-bD5mPBhUWX0QA6xiBgoXQXtwUm2jgjaCg=s64",
      "userId": "10668071569687886186"
     },
     "user_tz": 240
    },
    "id": "hle4zw51K6-P",
    "outputId": "6cd50b46-ecce-41ad-c688-ca3a662d3d5c"
   },
   "outputs": [
    {
     "data": {
      "text/plain": [
       "0    BTC\n",
       "1    XRP\n",
       "2    LTC\n",
       "3    ADA\n",
       "4    ETH\n",
       "dtype: object"
      ]
     },
     "execution_count": 4,
     "metadata": {},
     "output_type": "execute_result"
    }
   ],
   "source": [
    "# Let's create a one dimensional Pandas \"series\" \n",
    "# Let's use Pandas Constructor Method to create a series from a Python list\n",
    "# Note that series is formed of data and associated index (numeric index has been automatically generated) \n",
    "# Check Pandas Documentation for More information: https://pandas.pydata.org/pandas-docs/stable/reference/api/pandas.Series.html#pandas.Series\n",
    "# Object datatype is used for text data (String)\n",
    "crypto = [\"BTC\"\n",
    ",\"XRP\"\n",
    ",\"LTC\"\n",
    ",\"ADA\"\n",
    ",\"ETH\"]\n",
    "crypto = pd.Series(crypto)\n",
    "crypto"
   ]
  },
  {
   "cell_type": "code",
   "execution_count": 5,
   "metadata": {
    "colab": {
     "base_uri": "https://localhost:8080/"
    },
    "executionInfo": {
     "elapsed": 2818,
     "status": "ok",
     "timestamp": 1618858274559,
     "user": {
      "displayName": "Stemplicity",
      "photoUrl": "https://lh3.googleusercontent.com/a-/AOh14Gj2vCFt-bD5mPBhUWX0QA6xiBgoXQXtwUm2jgjaCg=s64",
      "userId": "10668071569687886186"
     },
     "user_tz": 240
    },
    "id": "-HNCtPcoNUyf",
    "outputId": "de6ed879-617b-454d-e792-7a7cb300b903"
   },
   "outputs": [
    {
     "data": {
      "text/plain": [
       "pandas.core.series.Series"
      ]
     },
     "execution_count": 5,
     "metadata": {},
     "output_type": "execute_result"
    }
   ],
   "source": [
    "# Let's confirm the Pandas Series Datatype\n",
    "type(crypto)"
   ]
  },
  {
   "cell_type": "code",
   "execution_count": 6,
   "metadata": {
    "colab": {
     "base_uri": "https://localhost:8080/"
    },
    "executionInfo": {
     "elapsed": 2806,
     "status": "ok",
     "timestamp": 1618858274560,
     "user": {
      "displayName": "Stemplicity",
      "photoUrl": "https://lh3.googleusercontent.com/a-/AOh14Gj2vCFt-bD5mPBhUWX0QA6xiBgoXQXtwUm2jgjaCg=s64",
      "userId": "10668071569687886186"
     },
     "user_tz": 240
    },
    "id": "LB2J-qw5LdQI",
    "outputId": "b094c6c0-9091-4998-9cfe-01c00ac51933"
   },
   "outputs": [
    {
     "data": {
      "text/plain": [
       "0    2000\n",
       "1     500\n",
       "2    2000\n",
       "3      20\n",
       "4      50\n",
       "dtype: int64"
      ]
     },
     "execution_count": 6,
     "metadata": {},
     "output_type": "execute_result"
    }
   ],
   "source": [
    "# Let's define another Pandas Series that contains numeric values (crypto prices) instead of text data\n",
    "# Note that we have int64 datatype which means it's integer stored in 64 bits in memory\n",
    "prices = pd.Series([2000, 500, 2000, 20, 50])\n",
    "prices\n"
   ]
  },
  {
   "cell_type": "markdown",
   "metadata": {
    "id": "8C0UN46KIntM"
   },
   "source": [
    "**MINI CHALLENGE #1:**\n",
    "- **Define a Pandas Series named \"my_series\" that contains your top 3 favourite stocks. Confirm the datatype of \"my_series\"**"
   ]
  },
  {
   "cell_type": "code",
   "execution_count": 7,
   "metadata": {
    "executionInfo": {
     "elapsed": 2804,
     "status": "ok",
     "timestamp": 1618858274560,
     "user": {
      "displayName": "Stemplicity",
      "photoUrl": "https://lh3.googleusercontent.com/a-/AOh14Gj2vCFt-bD5mPBhUWX0QA6xiBgoXQXtwUm2jgjaCg=s64",
      "userId": "10668071569687886186"
     },
     "user_tz": 240
    },
    "id": "l2aMAKvpJyWH"
   },
   "outputs": [
    {
     "data": {
      "text/plain": [
       "pandas.core.series.Series"
      ]
     },
     "execution_count": 7,
     "metadata": {},
     "output_type": "execute_result"
    }
   ],
   "source": [
    "my_series = pd.Series(['Appl', 'Tsla', 'Mcsf'])\n",
    "type(my_series)"
   ]
  },
  {
   "cell_type": "markdown",
   "metadata": {
    "id": "XN92TgiQOD7I"
   },
   "source": [
    "# TASK #2. DEFINE A PANDAS SERIES WITH CUSTOM INDEX"
   ]
  },
  {
   "cell_type": "code",
   "execution_count": 8,
   "metadata": {
    "colab": {
     "base_uri": "https://localhost:8080/"
    },
    "executionInfo": {
     "elapsed": 2793,
     "status": "ok",
     "timestamp": 1618858274561,
     "user": {
      "displayName": "Stemplicity",
      "photoUrl": "https://lh3.googleusercontent.com/a-/AOh14Gj2vCFt-bD5mPBhUWX0QA6xiBgoXQXtwUm2jgjaCg=s64",
      "userId": "10668071569687886186"
     },
     "user_tz": 240
    },
    "id": "K4Y9jVx1OaN4",
    "outputId": "bb27d7de-b628-4d2e-d514-b372f8028f3c"
   },
   "outputs": [],
   "source": [
    "# Let's define a Python list that contains 5 Crypto currencies\n",
    "crypto_list = ['BTC', 'XRP', 'LTC', 'ADA', 'ETH']\n"
   ]
  },
  {
   "cell_type": "code",
   "execution_count": 9,
   "metadata": {
    "colab": {
     "base_uri": "https://localhost:8080/"
    },
    "executionInfo": {
     "elapsed": 2782,
     "status": "ok",
     "timestamp": 1618858274561,
     "user": {
      "displayName": "Stemplicity",
      "photoUrl": "https://lh3.googleusercontent.com/a-/AOh14Gj2vCFt-bD5mPBhUWX0QA6xiBgoXQXtwUm2jgjaCg=s64",
      "userId": "10668071569687886186"
     },
     "user_tz": 240
    },
    "id": "ZSxdgs_xJvxx",
    "outputId": "6236c8f5-d62a-4ef9-9f12-8df4561ea8eb"
   },
   "outputs": [],
   "source": [
    "# Let's define a python list as shown below. This python list will be used for the Series index:\n",
    "crypto_index_list = ['crypto#1', 'crypto#2', 'crypto#3', 'crypto#4', 'crypto#5']\n"
   ]
  },
  {
   "cell_type": "code",
   "execution_count": 10,
   "metadata": {
    "executionInfo": {
     "elapsed": 2780,
     "status": "ok",
     "timestamp": 1618858274562,
     "user": {
      "displayName": "Stemplicity",
      "photoUrl": "https://lh3.googleusercontent.com/a-/AOh14Gj2vCFt-bD5mPBhUWX0QA6xiBgoXQXtwUm2jgjaCg=s64",
      "userId": "10668071569687886186"
     },
     "user_tz": 240
    },
    "id": "U4Fq06XwqX9v"
   },
   "outputs": [],
   "source": [
    "# Let's create a one dimensional Pandas \"series\" \n",
    "# Let's use Pandas Constructor Method to create a series from a Python list\n",
    "# Note that this series is formed of data and associated labels \n",
    "crypto_series = pd.Series(crypto_list, index=crypto_index_list)\n"
   ]
  },
  {
   "cell_type": "code",
   "execution_count": 11,
   "metadata": {
    "colab": {
     "base_uri": "https://localhost:8080/"
    },
    "executionInfo": {
     "elapsed": 3263,
     "status": "ok",
     "timestamp": 1618858275058,
     "user": {
      "displayName": "Stemplicity",
      "photoUrl": "https://lh3.googleusercontent.com/a-/AOh14Gj2vCFt-bD5mPBhUWX0QA6xiBgoXQXtwUm2jgjaCg=s64",
      "userId": "10668071569687886186"
     },
     "user_tz": 240
    },
    "id": "YhPzprisqX_8",
    "outputId": "bbc1914a-67a3-4226-9827-da1657710c5d"
   },
   "outputs": [
    {
     "data": {
      "text/plain": [
       "crypto#1    BTC\n",
       "crypto#2    XRP\n",
       "crypto#3    LTC\n",
       "crypto#4    ADA\n",
       "crypto#5    ETH\n",
       "dtype: object"
      ]
     },
     "execution_count": 11,
     "metadata": {},
     "output_type": "execute_result"
    }
   ],
   "source": [
    "# Let's view the series\n",
    "crypto_series"
   ]
  },
  {
   "cell_type": "code",
   "execution_count": 12,
   "metadata": {
    "colab": {
     "base_uri": "https://localhost:8080/"
    },
    "executionInfo": {
     "elapsed": 3251,
     "status": "ok",
     "timestamp": 1618858275058,
     "user": {
      "displayName": "Stemplicity",
      "photoUrl": "https://lh3.googleusercontent.com/a-/AOh14Gj2vCFt-bD5mPBhUWX0QA6xiBgoXQXtwUm2jgjaCg=s64",
      "userId": "10668071569687886186"
     },
     "user_tz": 240
    },
    "id": "4LPwMO8fsvi1",
    "outputId": "1d1a2f35-2932-49f3-e4b0-e6176c34d1a8"
   },
   "outputs": [
    {
     "data": {
      "text/plain": [
       "pandas.core.series.Series"
      ]
     },
     "execution_count": 12,
     "metadata": {},
     "output_type": "execute_result"
    }
   ],
   "source": [
    "# Let's obtain the datatype\n",
    "type(crypto_series)"
   ]
  },
  {
   "cell_type": "markdown",
   "metadata": {
    "id": "13icipAKL4W5"
   },
   "source": [
    "**MINI CHALLENGE #2:**\n",
    "- **Define a Pandas Series named \"my_series\" that contains your top 3 favourite stocks. Instead of using default numeric indexes (similar to mini challenge #1), use the following indexes \"stock #1\", \"stock #2\", and \"stock #3\"**"
   ]
  },
  {
   "cell_type": "code",
   "execution_count": 13,
   "metadata": {
    "executionInfo": {
     "elapsed": 3249,
     "status": "ok",
     "timestamp": 1618858275059,
     "user": {
      "displayName": "Stemplicity",
      "photoUrl": "https://lh3.googleusercontent.com/a-/AOh14Gj2vCFt-bD5mPBhUWX0QA6xiBgoXQXtwUm2jgjaCg=s64",
      "userId": "10668071569687886186"
     },
     "user_tz": 240
    },
    "id": "NZBRmbbuL8OC"
   },
   "outputs": [
    {
     "data": {
      "text/plain": [
       "stock #1    Appl\n",
       "stock #2    Tsla\n",
       "stock #3    Mcsf\n",
       "dtype: object"
      ]
     },
     "execution_count": 13,
     "metadata": {},
     "output_type": "execute_result"
    }
   ],
   "source": [
    "my_series_index = [\"stock #1\", \"stock #2\", \"stock #3\"]\n",
    "# my_series = pd.Series(['Appl', 'Tsla', 'Mcsf'], index=my_series_index)\n",
    "my_series.index = my_series_index\n",
    "my_series\n"
   ]
  },
  {
   "cell_type": "markdown",
   "metadata": {
    "id": "96EH6h9SQYW1"
   },
   "source": [
    "# TASK #3. DEFINE A PANDAS SERIES FROM A DICTIONARY"
   ]
  },
  {
   "cell_type": "code",
   "execution_count": 14,
   "metadata": {
    "executionInfo": {
     "elapsed": 3247,
     "status": "ok",
     "timestamp": 1618858275060,
     "user": {
      "displayName": "Stemplicity",
      "photoUrl": "https://lh3.googleusercontent.com/a-/AOh14Gj2vCFt-bD5mPBhUWX0QA6xiBgoXQXtwUm2jgjaCg=s64",
      "userId": "10668071569687886186"
     },
     "user_tz": 240
    },
    "id": "fk9R_fZlML_y"
   },
   "outputs": [],
   "source": [
    "## A Dictionary consists of a collection of key-value pairs. Each key-value pair maps the key to its corresponding value.\n",
    "## Keys are unique within a dictionary while values may not be. \n",
    "## List elements are accessed by their position in the list, via indexing while Dictionary elements are accessed via keys\n",
    "### Define a dictionary named \"my_dict\" using key-value pairs\n"
   ]
  },
  {
   "cell_type": "code",
   "execution_count": 15,
   "metadata": {
    "colab": {
     "base_uri": "https://localhost:8080/"
    },
    "executionInfo": {
     "elapsed": 3235,
     "status": "ok",
     "timestamp": 1618858275060,
     "user": {
      "displayName": "Stemplicity",
      "photoUrl": "https://lh3.googleusercontent.com/a-/AOh14Gj2vCFt-bD5mPBhUWX0QA6xiBgoXQXtwUm2jgjaCg=s64",
      "userId": "10668071569687886186"
     },
     "user_tz": 240
    },
    "id": "BlHhf-YPQdrB",
    "outputId": "8b32d4de-c0e0-4399-a67a-b90d33b99dd0"
   },
   "outputs": [],
   "source": [
    "# Show the dictionary\n",
    "my_dict = {'Employee ID': 1,\n",
    " 'Employee Name': 'Steve',\n",
    " 'Salary [$]': 2000,\n",
    " 'Years with company': 10}\n",
    "\n"
   ]
  },
  {
   "cell_type": "code",
   "execution_count": 16,
   "metadata": {
    "colab": {
     "base_uri": "https://localhost:8080/"
    },
    "executionInfo": {
     "elapsed": 3223,
     "status": "ok",
     "timestamp": 1618858275061,
     "user": {
      "displayName": "Stemplicity",
      "photoUrl": "https://lh3.googleusercontent.com/a-/AOh14Gj2vCFt-bD5mPBhUWX0QA6xiBgoXQXtwUm2jgjaCg=s64",
      "userId": "10668071569687886186"
     },
     "user_tz": 240
    },
    "id": "0b4KQo3JMcI0",
    "outputId": "0223f43e-a5a1-4759-96db-357481a582ab"
   },
   "outputs": [
    {
     "data": {
      "text/plain": [
       "dict"
      ]
     },
     "execution_count": 16,
     "metadata": {},
     "output_type": "execute_result"
    }
   ],
   "source": [
    "# Confirm the dictionary datatype \n",
    "type(my_dict)"
   ]
  },
  {
   "cell_type": "code",
   "execution_count": 17,
   "metadata": {
    "colab": {
     "base_uri": "https://localhost:8080/"
    },
    "executionInfo": {
     "elapsed": 3212,
     "status": "ok",
     "timestamp": 1618858275061,
     "user": {
      "displayName": "Stemplicity",
      "photoUrl": "https://lh3.googleusercontent.com/a-/AOh14Gj2vCFt-bD5mPBhUWX0QA6xiBgoXQXtwUm2jgjaCg=s64",
      "userId": "10668071569687886186"
     },
     "user_tz": 240
    },
    "id": "LeH27Q4aQeXe",
    "outputId": "e7e8c45a-7c15-4975-dc3f-d04526840b0e"
   },
   "outputs": [
    {
     "data": {
      "text/plain": [
       "Employee ID               1\n",
       "Employee Name         Steve\n",
       "Salary [$]             2000\n",
       "Years with company       10\n",
       "dtype: object"
      ]
     },
     "execution_count": 17,
     "metadata": {},
     "output_type": "execute_result"
    }
   ],
   "source": [
    "# Let's define a Pandas Series Using the dictionary\n",
    "serr_dict = pd.Series(my_dict)\n",
    "serr_dict"
   ]
  },
  {
   "cell_type": "markdown",
   "metadata": {
    "id": "_Tk4kxlLNI85"
   },
   "source": [
    "**MINI CHALLENGE #3:**\n",
    "- **Create a Pandas Series from a dictionary with 3 of your favourite stocks and their corresponding prices** "
   ]
  },
  {
   "cell_type": "code",
   "execution_count": 18,
   "metadata": {
    "executionInfo": {
     "elapsed": 3211,
     "status": "ok",
     "timestamp": 1618858275062,
     "user": {
      "displayName": "Stemplicity",
      "photoUrl": "https://lh3.googleusercontent.com/a-/AOh14Gj2vCFt-bD5mPBhUWX0QA6xiBgoXQXtwUm2jgjaCg=s64",
      "userId": "10668071569687886186"
     },
     "user_tz": 240
    },
    "id": "nlG7J4oKNLuY"
   },
   "outputs": [
    {
     "data": {
      "text/plain": [
       "BTC    2000\n",
       "XRP     500\n",
       "LTC    2000\n",
       "ADA      20\n",
       "ETH      50\n",
       "dtype: int64"
      ]
     },
     "execution_count": 18,
     "metadata": {},
     "output_type": "execute_result"
    }
   ],
   "source": [
    "crypto_list = ['BTC', 'XRP', 'LTC', 'ADA', 'ETH']\n",
    "prices = [2000, 500, 2000, 20, 50]\n",
    "\n",
    "pairs = zip(crypto_list, prices)\n",
    "prices_dict = {k: v for k, v in pairs}\n",
    "prices_serr = pd.Series(prices_dict)\n",
    "prices_serr\n",
    "\n"
   ]
  },
  {
   "cell_type": "markdown",
   "metadata": {
    "id": "VGlb7t7WRIR3"
   },
   "source": [
    "# TASK #4. PANDAS ATTRIBUTES"
   ]
  },
  {
   "cell_type": "code",
   "execution_count": 19,
   "metadata": {
    "colab": {
     "base_uri": "https://localhost:8080/"
    },
    "executionInfo": {
     "elapsed": 3200,
     "status": "ok",
     "timestamp": 1618858275063,
     "user": {
      "displayName": "Stemplicity",
      "photoUrl": "https://lh3.googleusercontent.com/a-/AOh14Gj2vCFt-bD5mPBhUWX0QA6xiBgoXQXtwUm2jgjaCg=s64",
      "userId": "10668071569687886186"
     },
     "user_tz": 240
    },
    "id": "p4FauWQlRRD8",
    "outputId": "e4886437-037a-4c0d-d101-4ae420394a55"
   },
   "outputs": [
    {
     "data": {
      "text/plain": [
       "0    BTC\n",
       "1    XRP\n",
       "2    LTC\n",
       "3    ADA\n",
       "4    ETH\n",
       "dtype: object"
      ]
     },
     "execution_count": 19,
     "metadata": {},
     "output_type": "execute_result"
    }
   ],
   "source": [
    "# Attributes/Properties: do not use parantheses \"()\" and are used to get Pandas Series Properties. Ex: my_series.values, my_series.shape\n",
    "# Methods: use parantheses \"()\" and might include arguments and they actually alter/change the Pandas Series. Ex: my_series.tail(), my_series.head(), my_series.drop_duplicates()\n",
    "# Indexers: use square brackets \"[]\" and are used to access specific elements in a Pandas Series or DataFrame. Ex: my_series.loc[], my_series.iloc[]\n",
    "\n",
    "# Let's redefine a Pandas Series containing our favourite 5 cryptos \n",
    "crypto = [\"BTC\"\n",
    ",\"XRP\"\n",
    ",\"LTC\"\n",
    ",\"ADA\"\n",
    ",\"ETH\"]\n",
    "crypto = pd.Series(crypto)\n",
    "crypto"
   ]
  },
  {
   "cell_type": "code",
   "execution_count": 20,
   "metadata": {
    "colab": {
     "base_uri": "https://localhost:8080/"
    },
    "executionInfo": {
     "elapsed": 3191,
     "status": "ok",
     "timestamp": 1618858275063,
     "user": {
      "displayName": "Stemplicity",
      "photoUrl": "https://lh3.googleusercontent.com/a-/AOh14Gj2vCFt-bD5mPBhUWX0QA6xiBgoXQXtwUm2jgjaCg=s64",
      "userId": "10668071569687886186"
     },
     "user_tz": 240
    },
    "id": "KBgZI_vHQeeA",
    "outputId": "15e55866-6ba6-4092-d147-ebd9ea3db158"
   },
   "outputs": [
    {
     "data": {
      "text/plain": [
       "array(['BTC', 'XRP', 'LTC', 'ADA', 'ETH'], dtype=object)"
      ]
     },
     "execution_count": 20,
     "metadata": {},
     "output_type": "execute_result"
    }
   ],
   "source": [
    "# \".Values\" attribute is used to return Series as ndarray depending on its dtype\n",
    "# Check this for more information: https://pandas.pydata.org/docs/reference/api/pandas.Series.values.html#pandas.Series.values\n",
    "crypto.values"
   ]
  },
  {
   "cell_type": "code",
   "execution_count": 21,
   "metadata": {
    "colab": {
     "base_uri": "https://localhost:8080/"
    },
    "executionInfo": {
     "elapsed": 3181,
     "status": "ok",
     "timestamp": 1618858275064,
     "user": {
      "displayName": "Stemplicity",
      "photoUrl": "https://lh3.googleusercontent.com/a-/AOh14Gj2vCFt-bD5mPBhUWX0QA6xiBgoXQXtwUm2jgjaCg=s64",
      "userId": "10668071569687886186"
     },
     "user_tz": 240
    },
    "id": "YDunyBEQRtoJ",
    "outputId": "b871c285-8973-4076-9c77-61898c193f42"
   },
   "outputs": [
    {
     "data": {
      "text/plain": [
       "RangeIndex(start=0, stop=5, step=1)"
      ]
     },
     "execution_count": 21,
     "metadata": {},
     "output_type": "execute_result"
    }
   ],
   "source": [
    "# index is used to return the index (axis labels) of the Series\n",
    "crypto.index"
   ]
  },
  {
   "cell_type": "code",
   "execution_count": 22,
   "metadata": {
    "colab": {
     "base_uri": "https://localhost:8080/"
    },
    "executionInfo": {
     "elapsed": 3171,
     "status": "ok",
     "timestamp": 1618858275065,
     "user": {
      "displayName": "Stemplicity",
      "photoUrl": "https://lh3.googleusercontent.com/a-/AOh14Gj2vCFt-bD5mPBhUWX0QA6xiBgoXQXtwUm2jgjaCg=s64",
      "userId": "10668071569687886186"
     },
     "user_tz": 240
    },
    "id": "7bgfGfQaSrqw",
    "outputId": "1500e3b0-a9da-4d61-cbe2-fdf8fe296a1e"
   },
   "outputs": [
    {
     "data": {
      "text/plain": [
       "dtype('O')"
      ]
     },
     "execution_count": 22,
     "metadata": {},
     "output_type": "execute_result"
    }
   ],
   "source": [
    "# dtype is used to return the datatype of the Series ('O' stands for 'object' datatype)\n",
    "crypto.dtype # this is to see the data type of the Series. "
   ]
  },
  {
   "cell_type": "code",
   "execution_count": 23,
   "metadata": {
    "colab": {
     "base_uri": "https://localhost:8080/"
    },
    "executionInfo": {
     "elapsed": 3154,
     "status": "ok",
     "timestamp": 1618858275066,
     "user": {
      "displayName": "Stemplicity",
      "photoUrl": "https://lh3.googleusercontent.com/a-/AOh14Gj2vCFt-bD5mPBhUWX0QA6xiBgoXQXtwUm2jgjaCg=s64",
      "userId": "10668071569687886186"
     },
     "user_tz": 240
    },
    "id": "XeQtP9v2dxzu",
    "outputId": "6689f7de-159f-48d3-9abf-bba1c6f6b198"
   },
   "outputs": [
    {
     "data": {
      "text/plain": [
       "True"
      ]
     },
     "execution_count": 23,
     "metadata": {},
     "output_type": "execute_result"
    }
   ],
   "source": [
    "# Check if all elements are unique or not\n",
    "crypto.is_unique # bring True if all elements are unique."
   ]
  },
  {
   "cell_type": "code",
   "execution_count": 24,
   "metadata": {
    "colab": {
     "base_uri": "https://localhost:8080/"
    },
    "executionInfo": {
     "elapsed": 3133,
     "status": "ok",
     "timestamp": 1618858275066,
     "user": {
      "displayName": "Stemplicity",
      "photoUrl": "https://lh3.googleusercontent.com/a-/AOh14Gj2vCFt-bD5mPBhUWX0QA6xiBgoXQXtwUm2jgjaCg=s64",
      "userId": "10668071569687886186"
     },
     "user_tz": 240
    },
    "id": "8VWnKVh0d7Kw",
    "outputId": "dca8b133-a9c1-432d-ed9d-9f9056224e62"
   },
   "outputs": [
    {
     "data": {
      "text/plain": [
       "(5,)"
      ]
     },
     "execution_count": 24,
     "metadata": {},
     "output_type": "execute_result"
    }
   ],
   "source": [
    "# Check the shape of the Series\n",
    "# note that a Series is one dimensional\n",
    "crypto.shape"
   ]
  },
  {
   "cell_type": "markdown",
   "metadata": {
    "id": "gPL7KbA3XGr1"
   },
   "source": [
    "**MINI CHALLENGE #4:** \n",
    "- **What is the size of the Pandas Series? (External Research for the proper attribute is Required)**"
   ]
  },
  {
   "cell_type": "code",
   "execution_count": 25,
   "metadata": {
    "executionInfo": {
     "elapsed": 3132,
     "status": "ok",
     "timestamp": 1618858275067,
     "user": {
      "displayName": "Stemplicity",
      "photoUrl": "https://lh3.googleusercontent.com/a-/AOh14Gj2vCFt-bD5mPBhUWX0QA6xiBgoXQXtwUm2jgjaCg=s64",
      "userId": "10668071569687886186"
     },
     "user_tz": 240
    },
    "id": "SyfddtryXbmX"
   },
   "outputs": [
    {
     "data": {
      "text/plain": [
       "5"
      ]
     },
     "execution_count": 25,
     "metadata": {},
     "output_type": "execute_result"
    }
   ],
   "source": [
    "crypto.size"
   ]
  },
  {
   "cell_type": "markdown",
   "metadata": {
    "id": "Qc7sVau-UtYt"
   },
   "source": [
    "# TASK #5. PANDAS METHODS"
   ]
  },
  {
   "cell_type": "code",
   "execution_count": 26,
   "metadata": {
    "colab": {
     "base_uri": "https://localhost:8080/"
    },
    "executionInfo": {
     "elapsed": 3125,
     "status": "ok",
     "timestamp": 1618858275068,
     "user": {
      "displayName": "Stemplicity",
      "photoUrl": "https://lh3.googleusercontent.com/a-/AOh14Gj2vCFt-bD5mPBhUWX0QA6xiBgoXQXtwUm2jgjaCg=s64",
      "userId": "10668071569687886186"
     },
     "user_tz": 240
    },
    "id": "5gwWM4VvUxI2",
    "outputId": "7cb2d91b-0317-4708-9140-053a2ac721c2"
   },
   "outputs": [],
   "source": [
    "# Methods have parentheses and they actually alter/change the Pandas Series\n",
    "# Methods: use parantheses \"()\" and might include arguments. Ex: my_series.tail(), my_series.head(), my_series.drop_duplicates()\n",
    "\n",
    "# Let's define another Pandas Series that contains numeric values (crypto prices) instead of text data\n",
    "# Note that we have int64 datatype which means it contains integer values stored in 64 bits in memory\n",
    "prices = pd.Series([2000, 500, 2000, 20, 50])"
   ]
  },
  {
   "cell_type": "code",
   "execution_count": 27,
   "metadata": {
    "colab": {
     "base_uri": "https://localhost:8080/"
    },
    "executionInfo": {
     "elapsed": 3116,
     "status": "ok",
     "timestamp": 1618858275069,
     "user": {
      "displayName": "Stemplicity",
      "photoUrl": "https://lh3.googleusercontent.com/a-/AOh14Gj2vCFt-bD5mPBhUWX0QA6xiBgoXQXtwUm2jgjaCg=s64",
      "userId": "10668071569687886186"
     },
     "user_tz": 240
    },
    "id": "ImwFgVASUxLa",
    "outputId": "9f7b7f3b-b8fb-4ebf-e224-fa7c43197d3f"
   },
   "outputs": [
    {
     "data": {
      "text/plain": [
       "4570"
      ]
     },
     "execution_count": 27,
     "metadata": {},
     "output_type": "execute_result"
    }
   ],
   "source": [
    "# Let's obtain the sum of all elements in the Pandas Series\n",
    "prices.sum()"
   ]
  },
  {
   "cell_type": "code",
   "execution_count": 28,
   "metadata": {
    "colab": {
     "base_uri": "https://localhost:8080/"
    },
    "executionInfo": {
     "elapsed": 3100,
     "status": "ok",
     "timestamp": 1618858275071,
     "user": {
      "displayName": "Stemplicity",
      "photoUrl": "https://lh3.googleusercontent.com/a-/AOh14Gj2vCFt-bD5mPBhUWX0QA6xiBgoXQXtwUm2jgjaCg=s64",
      "userId": "10668071569687886186"
     },
     "user_tz": 240
    },
    "id": "OLa69YwxUxOa",
    "outputId": "158234c1-4535-45b8-ae26-677f57238f08"
   },
   "outputs": [
    {
     "data": {
      "text/plain": [
       "2000000000000"
      ]
     },
     "execution_count": 28,
     "metadata": {},
     "output_type": "execute_result"
    }
   ],
   "source": [
    "# Let's obtain the multiplication of all elements in the Pandas Series\n",
    "prices.prod()"
   ]
  },
  {
   "cell_type": "code",
   "execution_count": 29,
   "metadata": {
    "colab": {
     "base_uri": "https://localhost:8080/"
    },
    "executionInfo": {
     "elapsed": 3079,
     "status": "ok",
     "timestamp": 1618858275072,
     "user": {
      "displayName": "Stemplicity",
      "photoUrl": "https://lh3.googleusercontent.com/a-/AOh14Gj2vCFt-bD5mPBhUWX0QA6xiBgoXQXtwUm2jgjaCg=s64",
      "userId": "10668071569687886186"
     },
     "user_tz": 240
    },
    "id": "xVMJtbtkUxQ-",
    "outputId": "650e2e87-2838-460a-98ae-09d1eb01cdcb"
   },
   "outputs": [
    {
     "data": {
      "text/plain": [
       "500.0"
      ]
     },
     "execution_count": 29,
     "metadata": {},
     "output_type": "execute_result"
    }
   ],
   "source": [
    "# Let's obtain the average\n",
    "prices.median()"
   ]
  },
  {
   "cell_type": "code",
   "execution_count": 30,
   "metadata": {
    "colab": {
     "base_uri": "https://localhost:8080/"
    },
    "executionInfo": {
     "elapsed": 3069,
     "status": "ok",
     "timestamp": 1618858275073,
     "user": {
      "displayName": "Stemplicity",
      "photoUrl": "https://lh3.googleusercontent.com/a-/AOh14Gj2vCFt-bD5mPBhUWX0QA6xiBgoXQXtwUm2jgjaCg=s64",
      "userId": "10668071569687886186"
     },
     "user_tz": 240
    },
    "id": "FgqSFr98YTUw",
    "outputId": "afaf3e7b-b5c1-4d1c-b99d-dd1bc9af90e3"
   },
   "outputs": [
    {
     "data": {
      "text/plain": [
       "0    2000\n",
       "1     500\n",
       "dtype: int64"
      ]
     },
     "execution_count": 30,
     "metadata": {},
     "output_type": "execute_result"
    }
   ],
   "source": [
    "# Let's show the first couple of elements in the Pandas Series\n",
    "prices.head(2)"
   ]
  },
  {
   "cell_type": "code",
   "execution_count": 31,
   "metadata": {
    "colab": {
     "base_uri": "https://localhost:8080/"
    },
    "executionInfo": {
     "elapsed": 3070,
     "status": "ok",
     "timestamp": 1618858275083,
     "user": {
      "displayName": "Stemplicity",
      "photoUrl": "https://lh3.googleusercontent.com/a-/AOh14Gj2vCFt-bD5mPBhUWX0QA6xiBgoXQXtwUm2jgjaCg=s64",
      "userId": "10668071569687886186"
     },
     "user_tz": 240
    },
    "id": "GFoxw41LZrBs",
    "outputId": "3aefbee8-0c98-44f4-a0b1-fd3b8a08899e"
   },
   "outputs": [
    {
     "data": {
      "text/plain": [
       "0    2000\n",
       "1     500\n",
       "2    2000\n",
       "dtype: int64"
      ]
     },
     "execution_count": 31,
     "metadata": {},
     "output_type": "execute_result"
    }
   ],
   "source": [
    "# Note that head creates a new dataframe \n",
    "prices.head(3)"
   ]
  },
  {
   "cell_type": "markdown",
   "metadata": {
    "id": "DHknLT4PTrjn"
   },
   "source": [
    "**MINI CHALLENGE #5:** \n",
    "- **Show the last 2 rows in the Pandas Series (External Research is Required)** \n",
    "- **How many bytes does this Pandas Series consume in memory? (External Research is Required)**"
   ]
  },
  {
   "cell_type": "code",
   "execution_count": 32,
   "metadata": {
    "colab": {
     "base_uri": "https://localhost:8080/"
    },
    "executionInfo": {
     "elapsed": 3063,
     "status": "ok",
     "timestamp": 1618858275085,
     "user": {
      "displayName": "Stemplicity",
      "photoUrl": "https://lh3.googleusercontent.com/a-/AOh14Gj2vCFt-bD5mPBhUWX0QA6xiBgoXQXtwUm2jgjaCg=s64",
      "userId": "10668071569687886186"
     },
     "user_tz": 240
    },
    "id": "UUiOynSPSshX",
    "outputId": "a3eb0c0b-1456-40aa-8fa6-2303e8396fad"
   },
   "outputs": [
    {
     "name": "stdout",
     "output_type": "stream",
     "text": [
      "3    20\n",
      "4    50\n",
      "dtype: int64\n",
      "168\n"
     ]
    }
   ],
   "source": [
    "print(prices.tail(2))\n",
    "print(prices.memory_usage())"
   ]
  },
  {
   "cell_type": "markdown",
   "metadata": {
    "id": "vzu3jPDbasz5"
   },
   "source": [
    "# TASK #6. IMPORT CSV DATA (1-D) USING PANDAS"
   ]
  },
  {
   "cell_type": "code",
   "execution_count": 33,
   "metadata": {
    "colab": {
     "base_uri": "https://localhost:8080/",
     "height": 404
    },
    "executionInfo": {
     "elapsed": 3588,
     "status": "error",
     "timestamp": 1618858275613,
     "user": {
      "displayName": "Stemplicity",
      "photoUrl": "https://lh3.googleusercontent.com/a-/AOh14Gj2vCFt-bD5mPBhUWX0QA6xiBgoXQXtwUm2jgjaCg=s64",
      "userId": "10668071569687886186"
     },
     "user_tz": 240
    },
    "id": "zLiVpmH2asz6",
    "outputId": "165b683c-727d-4eee-aab4-be8aee65801c"
   },
   "outputs": [],
   "source": [
    "# Pandas read_csv is used to read a csv file and store data in a DataFrame by default (DataFrames will be covered shortly!)\n",
    "# Use Squeeze to convert it into a Pandas Series (One-dimensional)\n",
    "# Notice that no foramtting exists when a Series is plotted\n"
   ]
  },
  {
   "cell_type": "code",
   "execution_count": 34,
   "metadata": {
    "executionInfo": {
     "elapsed": 3511,
     "status": "aborted",
     "timestamp": 1618858275545,
     "user": {
      "displayName": "Stemplicity",
      "photoUrl": "https://lh3.googleusercontent.com/a-/AOh14Gj2vCFt-bD5mPBhUWX0QA6xiBgoXQXtwUm2jgjaCg=s64",
      "userId": "10668071569687886186"
     },
     "user_tz": 240
    },
    "id": "Py1fYuPFasz6"
   },
   "outputs": [
    {
     "name": "stdout",
     "output_type": "stream",
     "text": [
      "0         457.334015\n",
      "1         424.440002\n",
      "2         394.795990\n",
      "3         408.903992\n",
      "4         398.821014\n",
      "            ...     \n",
      "2380    55950.746090\n",
      "2381    57750.199220\n",
      "2382    58917.691410\n",
      "2383    58918.832030\n",
      "2384    59095.808590\n",
      "Name: BTC-USD Price, Length: 2385, dtype: float64\n"
     ]
    },
    {
     "name": "stderr",
     "output_type": "stream",
     "text": [
      "C:\\Users\\ahmet\\AppData\\Local\\Temp\\ipykernel_5032\\2538449526.py:1: FutureWarning: The squeeze argument has been deprecated and will be removed in a future version. Append .squeeze(\"columns\") to the call to squeeze.\n",
      "\n",
      "\n",
      "  crypto = pd.read_csv('crypto.csv', squeeze=True)\n"
     ]
    },
    {
     "data": {
      "text/plain": [
       "pandas.core.series.Series"
      ]
     },
     "execution_count": 34,
     "metadata": {},
     "output_type": "execute_result"
    }
   ],
   "source": [
    "crypto = pd.read_csv('crypto.csv', squeeze=True)\n",
    "print(crypto)\n",
    "type(crypto) # this is now a series"
   ]
  },
  {
   "cell_type": "markdown",
   "metadata": {
    "id": "CykEEAr9S--X"
   },
   "source": [
    "**MINI CHALLENGE #6:**\n",
    "- **Set Squeeze = False and rerun the cell, what do you notice? Use Type to compare both outputs**"
   ]
  },
  {
   "cell_type": "code",
   "execution_count": 35,
   "metadata": {
    "executionInfo": {
     "elapsed": 3511,
     "status": "aborted",
     "timestamp": 1618858275547,
     "user": {
      "displayName": "Stemplicity",
      "photoUrl": "https://lh3.googleusercontent.com/a-/AOh14Gj2vCFt-bD5mPBhUWX0QA6xiBgoXQXtwUm2jgjaCg=s64",
      "userId": "10668071569687886186"
     },
     "user_tz": 240
    },
    "id": "DVEio_JnTArn"
   },
   "outputs": [
    {
     "name": "stdout",
     "output_type": "stream",
     "text": [
      "      BTC-USD Price\n",
      "0        457.334015\n",
      "1        424.440002\n",
      "2        394.795990\n",
      "3        408.903992\n",
      "4        398.821014\n",
      "...             ...\n",
      "2380   55950.746090\n",
      "2381   57750.199220\n",
      "2382   58917.691410\n",
      "2383   58918.832030\n",
      "2384   59095.808590\n",
      "\n",
      "[2385 rows x 1 columns]\n"
     ]
    },
    {
     "name": "stderr",
     "output_type": "stream",
     "text": [
      "C:\\Users\\ahmet\\AppData\\Local\\Temp\\ipykernel_5032\\3589857632.py:1: FutureWarning: The squeeze argument has been deprecated and will be removed in a future version. Append .squeeze(\"columns\") to the call to squeeze.\n",
      "\n",
      "\n",
      "  crypto = pd.read_csv('crypto.csv', squeeze=False) # this is now a data frame.\n"
     ]
    },
    {
     "data": {
      "text/plain": [
       "pandas.core.frame.DataFrame"
      ]
     },
     "execution_count": 35,
     "metadata": {},
     "output_type": "execute_result"
    }
   ],
   "source": [
    "crypto = pd.read_csv('crypto.csv', squeeze=False) # this is now a data frame.\n",
    "print(crypto)\n",
    "type(crypto) # this is now a data frame"
   ]
  },
  {
   "cell_type": "markdown",
   "metadata": {
    "id": "8HBGOWjKaK_i"
   },
   "source": [
    "# TASK #7. PANDAS BUILT-IN FUNCTIONS"
   ]
  },
  {
   "cell_type": "code",
   "execution_count": 36,
   "metadata": {
    "executionInfo": {
     "elapsed": 3510,
     "status": "aborted",
     "timestamp": 1618858275548,
     "user": {
      "displayName": "Stemplicity",
      "photoUrl": "https://lh3.googleusercontent.com/a-/AOh14Gj2vCFt-bD5mPBhUWX0QA6xiBgoXQXtwUm2jgjaCg=s64",
      "userId": "10668071569687886186"
     },
     "user_tz": 240
    },
    "id": "-Q-1iWEqaP6y"
   },
   "outputs": [
    {
     "name": "stdout",
     "output_type": "stream",
     "text": [
      "['ArithmeticError', 'AssertionError', 'AttributeError', 'BaseException', 'BlockingIOError', 'BrokenPipeError', 'BufferError', 'BytesWarning', 'ChildProcessError', 'ConnectionAbortedError', 'ConnectionError', 'ConnectionRefusedError', 'ConnectionResetError', 'DeprecationWarning', 'EOFError', 'Ellipsis', 'EncodingWarning', 'EnvironmentError', 'Exception', 'False', 'FileExistsError', 'FileNotFoundError', 'FloatingPointError', 'FutureWarning', 'GeneratorExit', 'IOError', 'ImportError', 'ImportWarning', 'IndentationError', 'IndexError', 'InterruptedError', 'IsADirectoryError', 'KeyError', 'KeyboardInterrupt', 'LookupError', 'MemoryError', 'ModuleNotFoundError', 'NameError', 'None', 'NotADirectoryError', 'NotImplemented', 'NotImplementedError', 'OSError', 'OverflowError', 'PendingDeprecationWarning', 'PermissionError', 'ProcessLookupError', 'RecursionError', 'ReferenceError', 'ResourceWarning', 'RuntimeError', 'RuntimeWarning', 'StopAsyncIteration', 'StopIteration', 'SyntaxError', 'SyntaxWarning', 'SystemError', 'SystemExit', 'TabError', 'TimeoutError', 'True', 'TypeError', 'UnboundLocalError', 'UnicodeDecodeError', 'UnicodeEncodeError', 'UnicodeError', 'UnicodeTranslateError', 'UnicodeWarning', 'UserWarning', 'ValueError', 'Warning', 'WindowsError', 'ZeroDivisionError', '__IPYTHON__', '__build_class__', '__debug__', '__doc__', '__import__', '__loader__', '__name__', '__package__', '__spec__', 'abs', 'aiter', 'all', 'anext', 'any', 'ascii', 'bin', 'bool', 'breakpoint', 'bytearray', 'bytes', 'callable', 'chr', 'classmethod', 'compile', 'complex', 'copyright', 'credits', 'delattr', 'dict', 'dir', 'display', 'divmod', 'enumerate', 'eval', 'exec', 'execfile', 'filter', 'float', 'format', 'frozenset', 'get_ipython', 'getattr', 'globals', 'hasattr', 'hash', 'help', 'hex', 'id', 'input', 'int', 'isinstance', 'issubclass', 'iter', 'len', 'license', 'list', 'locals', 'map', 'max', 'memoryview', 'min', 'next', 'object', 'oct', 'open', 'ord', 'pow', 'print', 'property', 'range', 'repr', 'reversed', 'round', 'runfile', 'set', 'setattr', 'slice', 'sorted', 'staticmethod', 'str', 'sum', 'super', 'tuple', 'type', 'vars', 'zip']\n"
     ]
    }
   ],
   "source": [
    "# Pandas works great with pre-existing python functions \n",
    "# You don't have to play with pandas methods and directly leverage Python functions\n",
    "# Check Python built-in functions here: https://docs.python.org/3/library/functions.html\n",
    "import builtins\n",
    "\n",
    "# Get a list of all available functions in Python\n",
    "all_functions = dir(builtins)\n",
    "\n",
    "# Print the list of functions\n",
    "print(all_functions)"
   ]
  },
  {
   "cell_type": "code",
   "execution_count": 37,
   "metadata": {
    "executionInfo": {
     "elapsed": 3503,
     "status": "aborted",
     "timestamp": 1618858275549,
     "user": {
      "displayName": "Stemplicity",
      "photoUrl": "https://lh3.googleusercontent.com/a-/AOh14Gj2vCFt-bD5mPBhUWX0QA6xiBgoXQXtwUm2jgjaCg=s64",
      "userId": "10668071569687886186"
     },
     "user_tz": 240
    },
    "id": "g759k2IPdVH-"
   },
   "outputs": [
    {
     "name": "stdout",
     "output_type": "stream",
     "text": [
      "0         457.334015\n",
      "1         424.440002\n",
      "2         394.795990\n",
      "3         408.903992\n",
      "4         398.821014\n",
      "            ...     \n",
      "2380    55950.746090\n",
      "2381    57750.199220\n",
      "2382    58917.691410\n",
      "2383    58918.832030\n",
      "2384    59095.808590\n",
      "Name: BTC-USD Price, Length: 2385, dtype: float64\n"
     ]
    },
    {
     "name": "stderr",
     "output_type": "stream",
     "text": [
      "C:\\Users\\ahmet\\AppData\\Local\\Temp\\ipykernel_5032\\2022294782.py:2: FutureWarning: The squeeze argument has been deprecated and will be removed in a future version. Append .squeeze(\"columns\") to the call to squeeze.\n",
      "\n",
      "\n",
      "  crypto = pd.read_csv('crypto.csv', squeeze=True)\n"
     ]
    },
    {
     "data": {
      "text/plain": [
       "pandas.core.series.Series"
      ]
     },
     "execution_count": 37,
     "metadata": {},
     "output_type": "execute_result"
    }
   ],
   "source": [
    "# Obtain the Data Type of the Pandas Series\n",
    "crypto = pd.read_csv('crypto.csv', squeeze=True)\n",
    "print(crypto)\n",
    "type(crypto) # this is now a series\n"
   ]
  },
  {
   "cell_type": "code",
   "execution_count": 38,
   "metadata": {
    "executionInfo": {
     "elapsed": 3472,
     "status": "aborted",
     "timestamp": 1618858275550,
     "user": {
      "displayName": "Stemplicity",
      "photoUrl": "https://lh3.googleusercontent.com/a-/AOh14Gj2vCFt-bD5mPBhUWX0QA6xiBgoXQXtwUm2jgjaCg=s64",
      "userId": "10668071569687886186"
     },
     "user_tz": 240
    },
    "id": "NbKysqrSaQ32"
   },
   "outputs": [
    {
     "data": {
      "text/plain": [
       "2385"
      ]
     },
     "execution_count": 38,
     "metadata": {},
     "output_type": "execute_result"
    }
   ],
   "source": [
    "# Obtain the length of the Pandas Series\n",
    "crypto.count()"
   ]
  },
  {
   "cell_type": "code",
   "execution_count": 39,
   "metadata": {
    "executionInfo": {
     "elapsed": 3457,
     "status": "aborted",
     "timestamp": 1618858275551,
     "user": {
      "displayName": "Stemplicity",
      "photoUrl": "https://lh3.googleusercontent.com/a-/AOh14Gj2vCFt-bD5mPBhUWX0QA6xiBgoXQXtwUm2jgjaCg=s64",
      "userId": "10668071569687886186"
     },
     "user_tz": 240
    },
    "id": "FeeA8actaQ6P"
   },
   "outputs": [
    {
     "data": {
      "text/plain": [
       "61243.08594"
      ]
     },
     "execution_count": 39,
     "metadata": {},
     "output_type": "execute_result"
    }
   ],
   "source": [
    "# Obtain the maximum value of the Pandas Series\n",
    "crypto.max()"
   ]
  },
  {
   "cell_type": "code",
   "execution_count": 40,
   "metadata": {
    "executionInfo": {
     "elapsed": 3469,
     "status": "aborted",
     "timestamp": 1618858275574,
     "user": {
      "displayName": "Stemplicity",
      "photoUrl": "https://lh3.googleusercontent.com/a-/AOh14Gj2vCFt-bD5mPBhUWX0QA6xiBgoXQXtwUm2jgjaCg=s64",
      "userId": "10668071569687886186"
     },
     "user_tz": 240
    },
    "id": "fyhw96-JaQ8a"
   },
   "outputs": [
    {
     "data": {
      "text/plain": [
       "178.1029968"
      ]
     },
     "execution_count": 40,
     "metadata": {},
     "output_type": "execute_result"
    }
   ],
   "source": [
    "# Obtain the minimum value of the Pandas Series\n",
    "crypto.min()"
   ]
  },
  {
   "cell_type": "markdown",
   "metadata": {
    "id": "NCnRK6oMVCtg"
   },
   "source": [
    "**MINI CHALLENGE #7:**\n",
    "- **Given the following Pandas Series, convert all positive values to negative using python built-in functions**\n",
    "- **Obtain only unique values (ie: Remove duplicates) using python built-in functions**\n",
    "- my_series = pd.Series(data = [-10, 100, -30, 50, 100])\n"
   ]
  },
  {
   "cell_type": "code",
   "execution_count": 41,
   "metadata": {
    "executionInfo": {
     "elapsed": 3467,
     "status": "aborted",
     "timestamp": 1618858275574,
     "user": {
      "displayName": "Stemplicity",
      "photoUrl": "https://lh3.googleusercontent.com/a-/AOh14Gj2vCFt-bD5mPBhUWX0QA6xiBgoXQXtwUm2jgjaCg=s64",
      "userId": "10668071569687886186"
     },
     "user_tz": 240
    },
    "id": "DG-Tjp6PVEpW"
   },
   "outputs": [
    {
     "ename": "TypeError",
     "evalue": "'<' not supported between instances of 'str' and 'int'",
     "output_type": "error",
     "traceback": [
      "\u001b[1;31m---------------------------------------------------------------------------\u001b[0m",
      "\u001b[1;31mTypeError\u001b[0m                                 Traceback (most recent call last)",
      "Cell \u001b[1;32mIn[41], line 1\u001b[0m\n\u001b[1;32m----> 1\u001b[0m my_series \u001b[39m=\u001b[39m my_series\u001b[39m.\u001b[39mwhere(my_series\u001b[39m<\u001b[39;49m\u001b[39m0\u001b[39;49m, my_series\u001b[39m*\u001b[39m\u001b[39m-\u001b[39m\u001b[39m1\u001b[39m)\n\u001b[0;32m      2\u001b[0m my_series\n",
      "File \u001b[1;32mc:\\Users\\ahmet\\AppData\\Local\\Programs\\Python\\Python310\\lib\\site-packages\\pandas\\core\\ops\\common.py:72\u001b[0m, in \u001b[0;36m_unpack_zerodim_and_defer.<locals>.new_method\u001b[1;34m(self, other)\u001b[0m\n\u001b[0;32m     68\u001b[0m             \u001b[39mreturn\u001b[39;00m \u001b[39mNotImplemented\u001b[39m\n\u001b[0;32m     70\u001b[0m other \u001b[39m=\u001b[39m item_from_zerodim(other)\n\u001b[1;32m---> 72\u001b[0m \u001b[39mreturn\u001b[39;00m method(\u001b[39mself\u001b[39;49m, other)\n",
      "File \u001b[1;32mc:\\Users\\ahmet\\AppData\\Local\\Programs\\Python\\Python310\\lib\\site-packages\\pandas\\core\\arraylike.py:50\u001b[0m, in \u001b[0;36mOpsMixin.__lt__\u001b[1;34m(self, other)\u001b[0m\n\u001b[0;32m     48\u001b[0m \u001b[39m@unpack_zerodim_and_defer\u001b[39m(\u001b[39m\"\u001b[39m\u001b[39m__lt__\u001b[39m\u001b[39m\"\u001b[39m)\n\u001b[0;32m     49\u001b[0m \u001b[39mdef\u001b[39;00m \u001b[39m__lt__\u001b[39m(\u001b[39mself\u001b[39m, other):\n\u001b[1;32m---> 50\u001b[0m     \u001b[39mreturn\u001b[39;00m \u001b[39mself\u001b[39;49m\u001b[39m.\u001b[39;49m_cmp_method(other, operator\u001b[39m.\u001b[39;49mlt)\n",
      "File \u001b[1;32mc:\\Users\\ahmet\\AppData\\Local\\Programs\\Python\\Python310\\lib\\site-packages\\pandas\\core\\series.py:6243\u001b[0m, in \u001b[0;36mSeries._cmp_method\u001b[1;34m(self, other, op)\u001b[0m\n\u001b[0;32m   6240\u001b[0m rvalues \u001b[39m=\u001b[39m extract_array(other, extract_numpy\u001b[39m=\u001b[39m\u001b[39mTrue\u001b[39;00m, extract_range\u001b[39m=\u001b[39m\u001b[39mTrue\u001b[39;00m)\n\u001b[0;32m   6242\u001b[0m \u001b[39mwith\u001b[39;00m np\u001b[39m.\u001b[39merrstate(\u001b[39mall\u001b[39m\u001b[39m=\u001b[39m\u001b[39m\"\u001b[39m\u001b[39mignore\u001b[39m\u001b[39m\"\u001b[39m):\n\u001b[1;32m-> 6243\u001b[0m     res_values \u001b[39m=\u001b[39m ops\u001b[39m.\u001b[39;49mcomparison_op(lvalues, rvalues, op)\n\u001b[0;32m   6245\u001b[0m \u001b[39mreturn\u001b[39;00m \u001b[39mself\u001b[39m\u001b[39m.\u001b[39m_construct_result(res_values, name\u001b[39m=\u001b[39mres_name)\n",
      "File \u001b[1;32mc:\\Users\\ahmet\\AppData\\Local\\Programs\\Python\\Python310\\lib\\site-packages\\pandas\\core\\ops\\array_ops.py:287\u001b[0m, in \u001b[0;36mcomparison_op\u001b[1;34m(left, right, op)\u001b[0m\n\u001b[0;32m    284\u001b[0m     \u001b[39mreturn\u001b[39;00m invalid_comparison(lvalues, rvalues, op)\n\u001b[0;32m    286\u001b[0m \u001b[39melif\u001b[39;00m is_object_dtype(lvalues\u001b[39m.\u001b[39mdtype) \u001b[39mor\u001b[39;00m \u001b[39misinstance\u001b[39m(rvalues, \u001b[39mstr\u001b[39m):\n\u001b[1;32m--> 287\u001b[0m     res_values \u001b[39m=\u001b[39m comp_method_OBJECT_ARRAY(op, lvalues, rvalues)\n\u001b[0;32m    289\u001b[0m \u001b[39melse\u001b[39;00m:\n\u001b[0;32m    290\u001b[0m     res_values \u001b[39m=\u001b[39m _na_arithmetic_op(lvalues, rvalues, op, is_cmp\u001b[39m=\u001b[39m\u001b[39mTrue\u001b[39;00m)\n",
      "File \u001b[1;32mc:\\Users\\ahmet\\AppData\\Local\\Programs\\Python\\Python310\\lib\\site-packages\\pandas\\core\\ops\\array_ops.py:75\u001b[0m, in \u001b[0;36mcomp_method_OBJECT_ARRAY\u001b[1;34m(op, x, y)\u001b[0m\n\u001b[0;32m     73\u001b[0m     result \u001b[39m=\u001b[39m libops\u001b[39m.\u001b[39mvec_compare(x\u001b[39m.\u001b[39mravel(), y\u001b[39m.\u001b[39mravel(), op)\n\u001b[0;32m     74\u001b[0m \u001b[39melse\u001b[39;00m:\n\u001b[1;32m---> 75\u001b[0m     result \u001b[39m=\u001b[39m libops\u001b[39m.\u001b[39;49mscalar_compare(x\u001b[39m.\u001b[39;49mravel(), y, op)\n\u001b[0;32m     76\u001b[0m \u001b[39mreturn\u001b[39;00m result\u001b[39m.\u001b[39mreshape(x\u001b[39m.\u001b[39mshape)\n",
      "File \u001b[1;32mc:\\Users\\ahmet\\AppData\\Local\\Programs\\Python\\Python310\\lib\\site-packages\\pandas\\_libs\\ops.pyx:107\u001b[0m, in \u001b[0;36mpandas._libs.ops.scalar_compare\u001b[1;34m()\u001b[0m\n",
      "\u001b[1;31mTypeError\u001b[0m: '<' not supported between instances of 'str' and 'int'"
     ]
    }
   ],
   "source": [
    "my_series = my_series.where(my_series<0, my_series*-1)\n",
    "my_series"
   ]
  },
  {
   "cell_type": "code",
   "execution_count": null,
   "metadata": {},
   "outputs": [
    {
     "data": {
      "text/plain": [
       "{-100, -50, -30, -10}"
      ]
     },
     "execution_count": 46,
     "metadata": {},
     "output_type": "execute_result"
    }
   ],
   "source": [
    "my_series.unique()\n",
    "set(my_series)"
   ]
  },
  {
   "cell_type": "markdown",
   "metadata": {
    "id": "LKDuJ94RvB85"
   },
   "source": [
    "# TASK #8. SORTING PANDAS SERIES"
   ]
  },
  {
   "cell_type": "code",
   "execution_count": null,
   "metadata": {
    "executionInfo": {
     "elapsed": 3456,
     "status": "aborted",
     "timestamp": 1618858275575,
     "user": {
      "displayName": "Stemplicity",
      "photoUrl": "https://lh3.googleusercontent.com/a-/AOh14Gj2vCFt-bD5mPBhUWX0QA6xiBgoXQXtwUm2jgjaCg=s64",
      "userId": "10668071569687886186"
     },
     "user_tz": 240
    },
    "id": "f-aRTmn9u7DA"
   },
   "outputs": [
    {
     "name": "stdout",
     "output_type": "stream",
     "text": [
      "0         457.334015\n",
      "1         424.440002\n",
      "2         394.795990\n",
      "3         408.903992\n",
      "4         398.821014\n",
      "            ...     \n",
      "2380    55950.746090\n",
      "2381    57750.199220\n",
      "2382    58917.691410\n",
      "2383    58918.832030\n",
      "2384    59095.808590\n",
      "Name: BTC-USD Price, Length: 2385, dtype: float64\n"
     ]
    },
    {
     "name": "stderr",
     "output_type": "stream",
     "text": [
      "C:\\Users\\ahmet\\AppData\\Local\\Temp\\ipykernel_29768\\1357699694.py:2: FutureWarning: The squeeze argument has been deprecated and will be removed in a future version. Append .squeeze(\"columns\") to the call to squeeze.\n",
      "\n",
      "\n",
      "  crypto = pd.read_csv('crypto.csv', squeeze=True)\n"
     ]
    },
    {
     "data": {
      "text/plain": [
       "pandas.core.series.Series"
      ]
     },
     "execution_count": 47,
     "metadata": {},
     "output_type": "execute_result"
    }
   ],
   "source": [
    "# Let's import CSV data as follows:\n",
    "crypto = pd.read_csv('crypto.csv', squeeze=True)\n",
    "print(crypto)\n",
    "type(crypto) # this is now a series"
   ]
  },
  {
   "cell_type": "code",
   "execution_count": null,
   "metadata": {
    "executionInfo": {
     "elapsed": 3446,
     "status": "aborted",
     "timestamp": 1618858275575,
     "user": {
      "displayName": "Stemplicity",
      "photoUrl": "https://lh3.googleusercontent.com/a-/AOh14Gj2vCFt-bD5mPBhUWX0QA6xiBgoXQXtwUm2jgjaCg=s64",
      "userId": "10668071569687886186"
     },
     "user_tz": 240
    },
    "id": "DaglhPNevFYC"
   },
   "outputs": [
    {
     "data": {
      "text/plain": [
       "119       178.102997\n",
       "122       199.259995\n",
       "121       208.097000\n",
       "120       209.843994\n",
       "123       210.339004\n",
       "            ...     \n",
       "2382    58917.691410\n",
       "2383    58918.832030\n",
       "2384    59095.808590\n",
       "2366    59302.316410\n",
       "2365    61243.085940\n",
       "Name: BTC-USD Price, Length: 2385, dtype: float64"
      ]
     },
     "execution_count": 59,
     "metadata": {},
     "output_type": "execute_result"
    }
   ],
   "source": [
    "# You can sort the values in the dataframe as follows\n",
    "crypto.sort_values(ascending=True, axis=0, inplace=True) # we use the inplace keyword arguement to save the change."
   ]
  },
  {
   "cell_type": "code",
   "execution_count": null,
   "metadata": {
    "executionInfo": {
     "elapsed": 3438,
     "status": "aborted",
     "timestamp": 1618858275576,
     "user": {
      "displayName": "Stemplicity",
      "photoUrl": "https://lh3.googleusercontent.com/a-/AOh14Gj2vCFt-bD5mPBhUWX0QA6xiBgoXQXtwUm2jgjaCg=s64",
      "userId": "10668071569687886186"
     },
     "user_tz": 240
    },
    "id": "AjzLtDlevFaW"
   },
   "outputs": [
    {
     "data": {
      "text/plain": [
       "119       178.102997\n",
       "122       199.259995\n",
       "121       208.097000\n",
       "120       209.843994\n",
       "123       210.339004\n",
       "            ...     \n",
       "2382    58917.691410\n",
       "2383    58918.832030\n",
       "2384    59095.808590\n",
       "2366    59302.316410\n",
       "2365    61243.085940\n",
       "Name: BTC-USD Price, Length: 2385, dtype: float64"
      ]
     },
     "execution_count": 60,
     "metadata": {},
     "output_type": "execute_result"
    }
   ],
   "source": [
    "# Let's view Pandas Series again after sorting, Note that nothing changed in memory! you have to make sure that inplace is set to True\n",
    "crypto"
   ]
  },
  {
   "cell_type": "code",
   "execution_count": null,
   "metadata": {
    "executionInfo": {
     "elapsed": 3436,
     "status": "aborted",
     "timestamp": 1618858275576,
     "user": {
      "displayName": "Stemplicity",
      "photoUrl": "https://lh3.googleusercontent.com/a-/AOh14Gj2vCFt-bD5mPBhUWX0QA6xiBgoXQXtwUm2jgjaCg=s64",
      "userId": "10668071569687886186"
     },
     "user_tz": 240
    },
    "id": "Pgt25eXmvFce"
   },
   "outputs": [],
   "source": [
    "# Set inplace = True to ensure that change has taken place in memory \n",
    "crypto.sort_values(ascending=True, axis=0, inplace=True) # we use the inplace keyword arguement to save the change."
   ]
  },
  {
   "cell_type": "code",
   "execution_count": null,
   "metadata": {
    "executionInfo": {
     "elapsed": 3426,
     "status": "aborted",
     "timestamp": 1618858275577,
     "user": {
      "displayName": "Stemplicity",
      "photoUrl": "https://lh3.googleusercontent.com/a-/AOh14Gj2vCFt-bD5mPBhUWX0QA6xiBgoXQXtwUm2jgjaCg=s64",
      "userId": "10668071569687886186"
     },
     "user_tz": 240
    },
    "id": "jEw2Gw_hu7Fo"
   },
   "outputs": [
    {
     "data": {
      "text/plain": [
       "<bound method Series.info of 119       178.102997\n",
       "122       199.259995\n",
       "121       208.097000\n",
       "120       209.843994\n",
       "123       210.339004\n",
       "            ...     \n",
       "2382    58917.691410\n",
       "2383    58918.832030\n",
       "2384    59095.808590\n",
       "2366    59302.316410\n",
       "2365    61243.085940\n",
       "Name: BTC-USD Price, Length: 2385, dtype: float64>"
      ]
     },
     "execution_count": 64,
     "metadata": {},
     "output_type": "execute_result"
    }
   ],
   "source": [
    "# Note that now the change (ordering) took place \n",
    "crypto.info"
   ]
  },
  {
   "cell_type": "code",
   "execution_count": null,
   "metadata": {
    "executionInfo": {
     "elapsed": 3410,
     "status": "aborted",
     "timestamp": 1618858275578,
     "user": {
      "displayName": "Stemplicity",
      "photoUrl": "https://lh3.googleusercontent.com/a-/AOh14Gj2vCFt-bD5mPBhUWX0QA6xiBgoXQXtwUm2jgjaCg=s64",
      "userId": "10668071569687886186"
     },
     "user_tz": 240
    },
    "id": "6wi0QnU5iGk8"
   },
   "outputs": [
    {
     "data": {
      "text/plain": [
       "0         457.334015\n",
       "1         424.440002\n",
       "2         394.795990\n",
       "3         408.903992\n",
       "4         398.821014\n",
       "            ...     \n",
       "2380    55950.746090\n",
       "2381    57750.199220\n",
       "2382    58917.691410\n",
       "2383    58918.832030\n",
       "2384    59095.808590\n",
       "Name: BTC-USD Price, Length: 2385, dtype: float64"
      ]
     },
     "execution_count": 67,
     "metadata": {},
     "output_type": "execute_result"
    }
   ],
   "source": [
    "# Notice that the indexes are now changed \n",
    "# You can also sort by index (revert back to the original Pandas Series) as follows: \n",
    "crypto.sort_index(ascending=True, axis=0, inplace=False) # we use the inplace keyword arguement to save the change."
   ]
  },
  {
   "cell_type": "markdown",
   "metadata": {
    "id": "7bV_Yaq46ZTg"
   },
   "source": [
    "**MINI CHALLENGE #8:**\n",
    "- **Sort the BTC_price_series values in a decending order instead. Make sure to update values in-memory.**"
   ]
  },
  {
   "cell_type": "code",
   "execution_count": null,
   "metadata": {
    "executionInfo": {
     "elapsed": 3408,
     "status": "aborted",
     "timestamp": 1618858275578,
     "user": {
      "displayName": "Stemplicity",
      "photoUrl": "https://lh3.googleusercontent.com/a-/AOh14Gj2vCFt-bD5mPBhUWX0QA6xiBgoXQXtwUm2jgjaCg=s64",
      "userId": "10668071569687886186"
     },
     "user_tz": 240
    },
    "id": "zw0acoYEkDJB"
   },
   "outputs": [
    {
     "data": {
      "text/plain": [
       "2365    61243.085940\n",
       "2366    59302.316410\n",
       "2384    59095.808590\n",
       "2383    58918.832030\n",
       "2382    58917.691410\n",
       "            ...     \n",
       "123       210.339004\n",
       "120       209.843994\n",
       "121       208.097000\n",
       "122       199.259995\n",
       "119       178.102997\n",
       "Name: BTC-USD Price, Length: 2385, dtype: float64"
      ]
     },
     "execution_count": 69,
     "metadata": {},
     "output_type": "execute_result"
    }
   ],
   "source": [
    "crypto.sort_values(ascending=False, axis=0, inplace=True)\n",
    "crypto"
   ]
  },
  {
   "cell_type": "markdown",
   "metadata": {
    "id": "1QT7bBFCkDhh"
   },
   "source": [
    "# TASK #9. PERFORM MATH OPERATIONS ON PANDAS SERIES"
   ]
  },
  {
   "cell_type": "code",
   "execution_count": null,
   "metadata": {
    "executionInfo": {
     "elapsed": 3400,
     "status": "aborted",
     "timestamp": 1618858275579,
     "user": {
      "displayName": "Stemplicity",
      "photoUrl": "https://lh3.googleusercontent.com/a-/AOh14Gj2vCFt-bD5mPBhUWX0QA6xiBgoXQXtwUm2jgjaCg=s64",
      "userId": "10668071569687886186"
     },
     "user_tz": 240
    },
    "id": "UXFGCV4SkI4O"
   },
   "outputs": [
    {
     "name": "stdout",
     "output_type": "stream",
     "text": [
      "0         457.334015\n",
      "1         424.440002\n",
      "2         394.795990\n",
      "3         408.903992\n",
      "4         398.821014\n",
      "            ...     \n",
      "2380    55950.746090\n",
      "2381    57750.199220\n",
      "2382    58917.691410\n",
      "2383    58918.832030\n",
      "2384    59095.808590\n",
      "Name: BTC-USD Price, Length: 2385, dtype: float64\n"
     ]
    },
    {
     "name": "stderr",
     "output_type": "stream",
     "text": [
      "C:\\Users\\ahmet\\AppData\\Local\\Temp\\ipykernel_29768\\1357699694.py:2: FutureWarning: The squeeze argument has been deprecated and will be removed in a future version. Append .squeeze(\"columns\") to the call to squeeze.\n",
      "\n",
      "\n",
      "  crypto = pd.read_csv('crypto.csv', squeeze=True)\n"
     ]
    },
    {
     "data": {
      "text/plain": [
       "pandas.core.series.Series"
      ]
     },
     "execution_count": 70,
     "metadata": {},
     "output_type": "execute_result"
    }
   ],
   "source": [
    "# Let's import CSV data as follows:\n",
    "crypto = pd.read_csv('crypto.csv', squeeze=True)\n",
    "print(crypto)\n",
    "type(crypto) # this is now a series"
   ]
  },
  {
   "cell_type": "code",
   "execution_count": null,
   "metadata": {
    "executionInfo": {
     "elapsed": 3391,
     "status": "aborted",
     "timestamp": 1618858275579,
     "user": {
      "displayName": "Stemplicity",
      "photoUrl": "https://lh3.googleusercontent.com/a-/AOh14Gj2vCFt-bD5mPBhUWX0QA6xiBgoXQXtwUm2jgjaCg=s64",
      "userId": "10668071569687886186"
     },
     "user_tz": 240
    },
    "id": "Qpo7M9yYkJPQ"
   },
   "outputs": [
    {
     "data": {
      "text/plain": [
       "15435379.738852698"
      ]
     },
     "execution_count": 71,
     "metadata": {},
     "output_type": "execute_result"
    }
   ],
   "source": [
    "# Apply Sum Method on Pandas Series\n",
    "crypto.sum()"
   ]
  },
  {
   "cell_type": "code",
   "execution_count": null,
   "metadata": {
    "executionInfo": {
     "elapsed": 3383,
     "status": "aborted",
     "timestamp": 1618858275580,
     "user": {
      "displayName": "Stemplicity",
      "photoUrl": "https://lh3.googleusercontent.com/a-/AOh14Gj2vCFt-bD5mPBhUWX0QA6xiBgoXQXtwUm2jgjaCg=s64",
      "userId": "10668071569687886186"
     },
     "user_tz": 240
    },
    "id": "FTSaQpjokJSM"
   },
   "outputs": [
    {
     "data": {
      "text/plain": [
       "2385"
      ]
     },
     "execution_count": 72,
     "metadata": {},
     "output_type": "execute_result"
    }
   ],
   "source": [
    "# Apply count Method on Pandas Series\n",
    "crypto.count()"
   ]
  },
  {
   "cell_type": "code",
   "execution_count": null,
   "metadata": {
    "executionInfo": {
     "elapsed": 3374,
     "status": "aborted",
     "timestamp": 1618858275580,
     "user": {
      "displayName": "Stemplicity",
      "photoUrl": "https://lh3.googleusercontent.com/a-/AOh14Gj2vCFt-bD5mPBhUWX0QA6xiBgoXQXtwUm2jgjaCg=s64",
      "userId": "10668071569687886186"
     },
     "user_tz": 240
    },
    "id": "I8vVnB_5kj7C"
   },
   "outputs": [
    {
     "data": {
      "text/plain": [
       "61243.08594"
      ]
     },
     "execution_count": 73,
     "metadata": {},
     "output_type": "execute_result"
    }
   ],
   "source": [
    "# Obtain the maximum value\n",
    "crypto.max()"
   ]
  },
  {
   "cell_type": "code",
   "execution_count": null,
   "metadata": {
    "executionInfo": {
     "elapsed": 3366,
     "status": "aborted",
     "timestamp": 1618858275581,
     "user": {
      "displayName": "Stemplicity",
      "photoUrl": "https://lh3.googleusercontent.com/a-/AOh14Gj2vCFt-bD5mPBhUWX0QA6xiBgoXQXtwUm2jgjaCg=s64",
      "userId": "10668071569687886186"
     },
     "user_tz": 240
    },
    "id": "u3-XBu-vko2y"
   },
   "outputs": [
    {
     "data": {
      "text/plain": [
       "178.1029968"
      ]
     },
     "execution_count": 74,
     "metadata": {},
     "output_type": "execute_result"
    }
   ],
   "source": [
    "# Obtain the minimum value\n",
    "crypto.min()"
   ]
  },
  {
   "cell_type": "code",
   "execution_count": null,
   "metadata": {
    "executionInfo": {
     "elapsed": 3357,
     "status": "aborted",
     "timestamp": 1618858275582,
     "user": {
      "displayName": "Stemplicity",
      "photoUrl": "https://lh3.googleusercontent.com/a-/AOh14Gj2vCFt-bD5mPBhUWX0QA6xiBgoXQXtwUm2jgjaCg=s64",
      "userId": "10668071569687886186"
     },
     "user_tz": 240
    },
    "id": "jfaK3BsckvAK"
   },
   "outputs": [
    {
     "data": {
      "text/plain": [
       "count     2385.000000\n",
       "mean      6471.857333\n",
       "std       9289.022505\n",
       "min        178.102997\n",
       "25%        454.618988\n",
       "50%       4076.632568\n",
       "75%       8864.766602\n",
       "max      61243.085940\n",
       "Name: BTC-USD Price, dtype: float64"
      ]
     },
     "execution_count": 75,
     "metadata": {},
     "output_type": "execute_result"
    }
   ],
   "source": [
    "# My favourite: Describe! \n",
    "# Describe is used to obtain all statistical information in one place \n",
    "crypto.describe()"
   ]
  },
  {
   "cell_type": "markdown",
   "metadata": {
    "id": "wfpnZiwxk1cb"
   },
   "source": [
    "**MINI CHALLENGE #9:**\n",
    "- **Obtain the average price of the BTC_price_series using two different methods**"
   ]
  },
  {
   "cell_type": "code",
   "execution_count": null,
   "metadata": {
    "executionInfo": {
     "elapsed": 3355,
     "status": "aborted",
     "timestamp": 1618858275582,
     "user": {
      "displayName": "Stemplicity",
      "photoUrl": "https://lh3.googleusercontent.com/a-/AOh14Gj2vCFt-bD5mPBhUWX0QA6xiBgoXQXtwUm2jgjaCg=s64",
      "userId": "10668071569687886186"
     },
     "user_tz": 240
    },
    "id": "MFL9i8NWlIH5"
   },
   "outputs": [
    {
     "name": "stdout",
     "output_type": "stream",
     "text": [
      "6471.857332852284 6471.857332852284\n"
     ]
    }
   ],
   "source": [
    "print(crypto.mean(), np.mean(crypto))"
   ]
  },
  {
   "cell_type": "markdown",
   "metadata": {
    "id": "Yi8uUb_eiqxo"
   },
   "source": [
    "# TASK #10. CHECK IF A GIVEN ELEMENT EXISTS IN A PANDAS SERIES"
   ]
  },
  {
   "cell_type": "code",
   "execution_count": null,
   "metadata": {
    "executionInfo": {
     "elapsed": 3347,
     "status": "aborted",
     "timestamp": 1618858275583,
     "user": {
      "displayName": "Stemplicity",
      "photoUrl": "https://lh3.googleusercontent.com/a-/AOh14Gj2vCFt-bD5mPBhUWX0QA6xiBgoXQXtwUm2jgjaCg=s64",
      "userId": "10668071569687886186"
     },
     "user_tz": 240
    },
    "id": "nEQ94a2RiuiR"
   },
   "outputs": [
    {
     "name": "stdout",
     "output_type": "stream",
     "text": [
      "0         457.334015\n",
      "1         424.440002\n",
      "2         394.795990\n",
      "3         408.903992\n",
      "4         398.821014\n",
      "            ...     \n",
      "2380    55950.746090\n",
      "2381    57750.199220\n",
      "2382    58917.691410\n",
      "2383    58918.832030\n",
      "2384    59095.808590\n",
      "Name: BTC-USD Price, Length: 2385, dtype: float64\n"
     ]
    },
    {
     "name": "stderr",
     "output_type": "stream",
     "text": [
      "C:\\Users\\ahmet\\AppData\\Local\\Temp\\ipykernel_29768\\1357699694.py:2: FutureWarning: The squeeze argument has been deprecated and will be removed in a future version. Append .squeeze(\"columns\") to the call to squeeze.\n",
      "\n",
      "\n",
      "  crypto = pd.read_csv('crypto.csv', squeeze=True)\n"
     ]
    },
    {
     "data": {
      "text/plain": [
       "pandas.core.series.Series"
      ]
     },
     "execution_count": 85,
     "metadata": {},
     "output_type": "execute_result"
    }
   ],
   "source": [
    "# Let's import CSV data as follows:\n",
    "crypto = pd.read_csv('crypto.csv', squeeze=True)\n",
    "print(crypto)\n",
    "type(crypto) # this is now a series"
   ]
  },
  {
   "cell_type": "code",
   "execution_count": 44,
   "metadata": {
    "executionInfo": {
     "elapsed": 3339,
     "status": "aborted",
     "timestamp": 1618858275584,
     "user": {
      "displayName": "Stemplicity",
      "photoUrl": "https://lh3.googleusercontent.com/a-/AOh14Gj2vCFt-bD5mPBhUWX0QA6xiBgoXQXtwUm2jgjaCg=s64",
      "userId": "10668071569687886186"
     },
     "user_tz": 240
    },
    "id": "x0T4h0CWi-p7"
   },
   "outputs": [
    {
     "data": {
      "text/plain": [
       "False"
      ]
     },
     "execution_count": 44,
     "metadata": {},
     "output_type": "execute_result"
    }
   ],
   "source": [
    "# Check if a given number exists in a Pandas Series values\n",
    "# Returns a boolean \"True\" or \"False\"\n",
    "crypto.iloc[1] == 1"
   ]
  },
  {
   "cell_type": "code",
   "execution_count": 49,
   "metadata": {
    "executionInfo": {
     "elapsed": 3323,
     "status": "aborted",
     "timestamp": 1618858275584,
     "user": {
      "displayName": "Stemplicity",
      "photoUrl": "https://lh3.googleusercontent.com/a-/AOh14Gj2vCFt-bD5mPBhUWX0QA6xiBgoXQXtwUm2jgjaCg=s64",
      "userId": "10668071569687886186"
     },
     "user_tz": 240
    },
    "id": "xa7GXwbhi-sh"
   },
   "outputs": [
    {
     "data": {
      "text/plain": [
       "True"
      ]
     },
     "execution_count": 49,
     "metadata": {},
     "output_type": "execute_result"
    }
   ],
   "source": [
    "# Check if a given number exists in a Pandas Series index\n",
    "crypto.iloc[0] == 457.3340149"
   ]
  },
  {
   "cell_type": "code",
   "execution_count": 52,
   "metadata": {
    "executionInfo": {
     "elapsed": 3317,
     "status": "aborted",
     "timestamp": 1618858275587,
     "user": {
      "displayName": "Stemplicity",
      "photoUrl": "https://lh3.googleusercontent.com/a-/AOh14Gj2vCFt-bD5mPBhUWX0QA6xiBgoXQXtwUm2jgjaCg=s64",
      "userId": "10668071569687886186"
     },
     "user_tz": 240
    },
    "id": "GyN5iG1ki-vC"
   },
   "outputs": [
    {
     "data": {
      "text/plain": [
       "True"
      ]
     },
     "execution_count": 52,
     "metadata": {},
     "output_type": "execute_result"
    }
   ],
   "source": [
    "# Note that by default 'in' will search in Pandas index and not values\n",
    "15 in crypto"
   ]
  },
  {
   "cell_type": "markdown",
   "metadata": {
    "id": "DjNoVv5vb9ij"
   },
   "source": [
    "**MINI CHALLENGE #10:**\n",
    "- **Check if the stock price 399 exists in the BTC_price_series Pandas Series or not**\n",
    "- **Round stock prices to the nearest integer and check again**"
   ]
  },
  {
   "cell_type": "code",
   "execution_count": 66,
   "metadata": {
    "executionInfo": {
     "elapsed": 3315,
     "status": "aborted",
     "timestamp": 1618858275588,
     "user": {
      "displayName": "Stemplicity",
      "photoUrl": "https://lh3.googleusercontent.com/a-/AOh14Gj2vCFt-bD5mPBhUWX0QA6xiBgoXQXtwUm2jgjaCg=s64",
      "userId": "10668071569687886186"
     },
     "user_tz": 240
    },
    "id": "3BYcu1gpb_Vo"
   },
   "outputs": [
    {
     "data": {
      "text/plain": [
       "False"
      ]
     },
     "execution_count": 66,
     "metadata": {},
     "output_type": "execute_result"
    }
   ],
   "source": [
    "crypto.isin([399]).any() # any method is used to check if \n",
    "\n"
   ]
  },
  {
   "cell_type": "code",
   "execution_count": 76,
   "metadata": {},
   "outputs": [
    {
     "data": {
      "text/plain": [
       "True"
      ]
     },
     "execution_count": 76,
     "metadata": {},
     "output_type": "execute_result"
    }
   ],
   "source": [
    "np.ceil(crypto).astype(int).isin([399]).any() # \n",
    "# first round all the values to the nearest integer with .ceil(crypto)\n",
    "# second turn the data type to integer using .astype(dtype)\n",
    "# thirds check if the 399 is in the new series with isin([list of numbers])\n",
    "# fourth check to see if any value is resulting boolean true. "
   ]
  },
  {
   "cell_type": "markdown",
   "metadata": {
    "id": "i1gJS3K7vlxd"
   },
   "source": [
    "# EXCELLENT JOB!"
   ]
  },
  {
   "cell_type": "markdown",
   "metadata": {
    "id": "MF2SdJZ_vn4z"
   },
   "source": [
    "# MINI CHALLENGE SOLUTIONS"
   ]
  },
  {
   "cell_type": "markdown",
   "metadata": {
    "id": "08v_y7IaJrvt"
   },
   "source": [
    "**MINI CHALLENGE #1 SOLUTION:**\n",
    "- **Define a Pandas Series named \"my_series\" that contains your top 3 favourite stocks. Confirm the datatype of \"my_series\"**"
   ]
  },
  {
   "cell_type": "code",
   "execution_count": 51,
   "metadata": {
    "executionInfo": {
     "elapsed": 3234,
     "status": "aborted",
     "timestamp": 1618858275593,
     "user": {
      "displayName": "Stemplicity",
      "photoUrl": "https://lh3.googleusercontent.com/a-/AOh14Gj2vCFt-bD5mPBhUWX0QA6xiBgoXQXtwUm2jgjaCg=s64",
      "userId": "10668071569687886186"
     },
     "user_tz": 240
    },
    "id": "syn8_3JiJrvt"
   },
   "outputs": [
    {
     "data": {
      "text/plain": [
       "0    Facebook\n",
       "1       Apple\n",
       "2      Nvidia\n",
       "dtype: object"
      ]
     },
     "execution_count": 51,
     "metadata": {},
     "output_type": "execute_result"
    }
   ],
   "source": [
    "# Let's define a Python list that contains 3 top stocks\n",
    "my_list = ['Facebook','Apple','Nvidia'] \n",
    "my_series = pd.Series(data = my_list) \n",
    "my_series"
   ]
  },
  {
   "cell_type": "code",
   "execution_count": 52,
   "metadata": {
    "executionInfo": {
     "elapsed": 3225,
     "status": "aborted",
     "timestamp": 1618858275593,
     "user": {
      "displayName": "Stemplicity",
      "photoUrl": "https://lh3.googleusercontent.com/a-/AOh14Gj2vCFt-bD5mPBhUWX0QA6xiBgoXQXtwUm2jgjaCg=s64",
      "userId": "10668071569687886186"
     },
     "user_tz": 240
    },
    "id": "12MuwJ5eJrvu"
   },
   "outputs": [
    {
     "data": {
      "text/plain": [
       "pandas.core.series.Series"
      ]
     },
     "execution_count": 52,
     "metadata": {},
     "output_type": "execute_result"
    }
   ],
   "source": [
    "type(my_series)"
   ]
  },
  {
   "cell_type": "markdown",
   "metadata": {
    "id": "1x6d0qzMKg-A"
   },
   "source": [
    "**MINI CHALLENGE #2 SOLUTION:**\n",
    "- **Define a Pandas Series named \"my_series\" that contains your top 3 favourite stocks. Instead of using default numeric indexes (similar to mini challenge #1), use the following indexes \"stock #1\", \"stock #2\", and \"stock #3\"**"
   ]
  },
  {
   "cell_type": "code",
   "execution_count": 53,
   "metadata": {
    "executionInfo": {
     "elapsed": 3223,
     "status": "aborted",
     "timestamp": 1618858275594,
     "user": {
      "displayName": "Stemplicity",
      "photoUrl": "https://lh3.googleusercontent.com/a-/AOh14Gj2vCFt-bD5mPBhUWX0QA6xiBgoXQXtwUm2jgjaCg=s64",
      "userId": "10668071569687886186"
     },
     "user_tz": 240
    },
    "id": "ddjSNsHBK-ll"
   },
   "outputs": [],
   "source": [
    "# Let's define a Python list that contains 3 stocks as follows\n",
    "my_list = ['Facebook','Apple','Nvidia'] \n",
    "\n",
    "# Let's define a python list as shown below. This python list will be used for the Series index:\n",
    "my_labels = ['stock #1', 'stock #2', 'stock #3']\n"
   ]
  },
  {
   "cell_type": "code",
   "execution_count": 54,
   "metadata": {
    "executionInfo": {
     "elapsed": 3216,
     "status": "aborted",
     "timestamp": 1618858275595,
     "user": {
      "displayName": "Stemplicity",
      "photoUrl": "https://lh3.googleusercontent.com/a-/AOh14Gj2vCFt-bD5mPBhUWX0QA6xiBgoXQXtwUm2jgjaCg=s64",
      "userId": "10668071569687886186"
     },
     "user_tz": 240
    },
    "id": "4iNEgSEtK8kl"
   },
   "outputs": [
    {
     "data": {
      "text/plain": [
       "stock #1    Facebook\n",
       "stock #2       Apple\n",
       "stock #3      Nvidia\n",
       "dtype: object"
      ]
     },
     "execution_count": 54,
     "metadata": {},
     "output_type": "execute_result"
    }
   ],
   "source": [
    "# Let's create a one dimensional Pandas \"series\" \n",
    "# Let's use Pandas Constructor Method to create a series from a Python list\n",
    "# Note that this series is formed of data and associated labels \n",
    "my_series = pd.Series(data = my_list, index = my_labels)\n",
    "my_series"
   ]
  },
  {
   "cell_type": "markdown",
   "metadata": {
    "id": "r6btEnxmMy_G"
   },
   "source": [
    "**MINI CHALLENGE #3 SOLUTION:**\n",
    "- **Create a Pandas Series from a dictionary with 3 of your favourite stocks and their corresponding prices** \n"
   ]
  },
  {
   "cell_type": "code",
   "execution_count": 55,
   "metadata": {
    "executionInfo": {
     "elapsed": 3207,
     "status": "aborted",
     "timestamp": 1618858275596,
     "user": {
      "displayName": "Stemplicity",
      "photoUrl": "https://lh3.googleusercontent.com/a-/AOh14Gj2vCFt-bD5mPBhUWX0QA6xiBgoXQXtwUm2jgjaCg=s64",
      "userId": "10668071569687886186"
     },
     "user_tz": 240
    },
    "id": "PzkBjyLHM7Do"
   },
   "outputs": [
    {
     "name": "stdout",
     "output_type": "stream",
     "text": [
      "{'Facebook': 3000, 'Apple': 400, 'Nvidia': 2200}\n"
     ]
    }
   ],
   "source": [
    "stocks = {'Facebook': 3000, \n",
    "          'Apple'   : 400,\n",
    "          'Nvidia'  : 2200}\n",
    "print(stocks)"
   ]
  },
  {
   "cell_type": "code",
   "execution_count": 56,
   "metadata": {
    "executionInfo": {
     "elapsed": 3198,
     "status": "aborted",
     "timestamp": 1618858275596,
     "user": {
      "displayName": "Stemplicity",
      "photoUrl": "https://lh3.googleusercontent.com/a-/AOh14Gj2vCFt-bD5mPBhUWX0QA6xiBgoXQXtwUm2jgjaCg=s64",
      "userId": "10668071569687886186"
     },
     "user_tz": 240
    },
    "id": "QeDCPO9hNAKj"
   },
   "outputs": [
    {
     "data": {
      "text/plain": [
       "Facebook    3000\n",
       "Apple        400\n",
       "Nvidia      2200\n",
       "dtype: int64"
      ]
     },
     "execution_count": 56,
     "metadata": {},
     "output_type": "execute_result"
    }
   ],
   "source": [
    "# Let's define a Pandas Series Using the dictionary\n",
    "my_series = pd.Series(stocks)\n",
    "my_series"
   ]
  },
  {
   "cell_type": "markdown",
   "metadata": {
    "id": "lB8OYAVJXRYe"
   },
   "source": [
    "**MINI CHALLENGE #4 SOLUTION:** \n",
    "- **What is the size of the Pandas Series? (External Research is Required)**"
   ]
  },
  {
   "cell_type": "code",
   "execution_count": 57,
   "metadata": {
    "executionInfo": {
     "elapsed": 3191,
     "status": "aborted",
     "timestamp": 1618858275597,
     "user": {
      "displayName": "Stemplicity",
      "photoUrl": "https://lh3.googleusercontent.com/a-/AOh14Gj2vCFt-bD5mPBhUWX0QA6xiBgoXQXtwUm2jgjaCg=s64",
      "userId": "10668071569687886186"
     },
     "user_tz": 240
    },
    "id": "D5D0wFlmXRYf"
   },
   "outputs": [
    {
     "data": {
      "text/plain": [
       "5"
      ]
     },
     "execution_count": 57,
     "metadata": {},
     "output_type": "execute_result"
    }
   ],
   "source": [
    "# size is used to return the size of the series\n",
    "crypto_series.size"
   ]
  },
  {
   "cell_type": "markdown",
   "metadata": {
    "id": "5D7QSEf7Y8aa"
   },
   "source": [
    "**MINI CHALLENGE #5 SOLUTION:** \n",
    "- **Show the last 2 rows in the Pandas Series (External Research is Required)** \n",
    "- **How many bytes does this Pandas Series consume in memory? (External Research is Required)**"
   ]
  },
  {
   "cell_type": "code",
   "execution_count": 58,
   "metadata": {
    "executionInfo": {
     "elapsed": 3182,
     "status": "aborted",
     "timestamp": 1618858275597,
     "user": {
      "displayName": "Stemplicity",
      "photoUrl": "https://lh3.googleusercontent.com/a-/AOh14Gj2vCFt-bD5mPBhUWX0QA6xiBgoXQXtwUm2jgjaCg=s64",
      "userId": "10668071569687886186"
     },
     "user_tz": 240
    },
    "id": "FsSGV7I3Y_ja"
   },
   "outputs": [
    {
     "data": {
      "text/plain": [
       "3    20\n",
       "4    70\n",
       "dtype: int64"
      ]
     },
     "execution_count": 58,
     "metadata": {},
     "output_type": "execute_result"
    }
   ],
   "source": [
    "crypto_prices.tail(2)"
   ]
  },
  {
   "cell_type": "code",
   "execution_count": 59,
   "metadata": {
    "executionInfo": {
     "elapsed": 3173,
     "status": "aborted",
     "timestamp": 1618858275598,
     "user": {
      "displayName": "Stemplicity",
      "photoUrl": "https://lh3.googleusercontent.com/a-/AOh14Gj2vCFt-bD5mPBhUWX0QA6xiBgoXQXtwUm2jgjaCg=s64",
      "userId": "10668071569687886186"
     },
     "user_tz": 240
    },
    "id": "s8g0WhX6Y8aa"
   },
   "outputs": [
    {
     "data": {
      "text/plain": [
       "168"
      ]
     },
     "execution_count": 59,
     "metadata": {},
     "output_type": "execute_result"
    }
   ],
   "source": [
    "crypto_prices.memory_usage()"
   ]
  },
  {
   "cell_type": "code",
   "execution_count": null,
   "metadata": {
    "executionInfo": {
     "elapsed": 3172,
     "status": "aborted",
     "timestamp": 1618858275599,
     "user": {
      "displayName": "Stemplicity",
      "photoUrl": "https://lh3.googleusercontent.com/a-/AOh14Gj2vCFt-bD5mPBhUWX0QA6xiBgoXQXtwUm2jgjaCg=s64",
      "userId": "10668071569687886186"
     },
     "user_tz": 240
    },
    "id": "k27pa4L1fv7-"
   },
   "outputs": [],
   "source": []
  },
  {
   "cell_type": "markdown",
   "metadata": {
    "id": "Thrv0augRv88"
   },
   "source": [
    "**MINI CHALLENGE #6 SOLUTION:**\n",
    "- **Set Squeeze = False and rerun the cell, what do you notice? Use Type to compare both outputs**"
   ]
  },
  {
   "cell_type": "code",
   "execution_count": 60,
   "metadata": {
    "executionInfo": {
     "elapsed": 3170,
     "status": "aborted",
     "timestamp": 1618858275600,
     "user": {
      "displayName": "Stemplicity",
      "photoUrl": "https://lh3.googleusercontent.com/a-/AOh14Gj2vCFt-bD5mPBhUWX0QA6xiBgoXQXtwUm2jgjaCg=s64",
      "userId": "10668071569687886186"
     },
     "user_tz": 240
    },
    "id": "Ebt-VMfccjR6"
   },
   "outputs": [],
   "source": [
    "BTC_price_series = pd.read_csv('crypto.csv', squeeze = False)\n",
    "# Note that when you set Squeeze = False, the data is stored in a DataFrame by default. \n",
    "# DataFrame is simply used to store multi dimensional data as compares to Pandas Series that only holds 1-D dataset \n",
    "# Note that DataFrames has proper formatting when you attempt to view them as shown below \n",
    "# Note that Pandas Series has no formatting\n"
   ]
  },
  {
   "cell_type": "code",
   "execution_count": 61,
   "metadata": {
    "executionInfo": {
     "elapsed": 3164,
     "status": "aborted",
     "timestamp": 1618858275603,
     "user": {
      "displayName": "Stemplicity",
      "photoUrl": "https://lh3.googleusercontent.com/a-/AOh14Gj2vCFt-bD5mPBhUWX0QA6xiBgoXQXtwUm2jgjaCg=s64",
      "userId": "10668071569687886186"
     },
     "user_tz": 240
    },
    "id": "WsTIJJlRSFkJ"
   },
   "outputs": [
    {
     "data": {
      "text/html": [
       "<div>\n",
       "<style scoped>\n",
       "    .dataframe tbody tr th:only-of-type {\n",
       "        vertical-align: middle;\n",
       "    }\n",
       "\n",
       "    .dataframe tbody tr th {\n",
       "        vertical-align: top;\n",
       "    }\n",
       "\n",
       "    .dataframe thead th {\n",
       "        text-align: right;\n",
       "    }\n",
       "</style>\n",
       "<table border=\"1\" class=\"dataframe\">\n",
       "  <thead>\n",
       "    <tr style=\"text-align: right;\">\n",
       "      <th></th>\n",
       "      <th>BTC-USD Price</th>\n",
       "    </tr>\n",
       "  </thead>\n",
       "  <tbody>\n",
       "    <tr>\n",
       "      <th>0</th>\n",
       "      <td>457.334015</td>\n",
       "    </tr>\n",
       "    <tr>\n",
       "      <th>1</th>\n",
       "      <td>424.440002</td>\n",
       "    </tr>\n",
       "    <tr>\n",
       "      <th>2</th>\n",
       "      <td>394.795990</td>\n",
       "    </tr>\n",
       "    <tr>\n",
       "      <th>3</th>\n",
       "      <td>408.903992</td>\n",
       "    </tr>\n",
       "    <tr>\n",
       "      <th>4</th>\n",
       "      <td>398.821014</td>\n",
       "    </tr>\n",
       "    <tr>\n",
       "      <th>...</th>\n",
       "      <td>...</td>\n",
       "    </tr>\n",
       "    <tr>\n",
       "      <th>2380</th>\n",
       "      <td>55950.746090</td>\n",
       "    </tr>\n",
       "    <tr>\n",
       "      <th>2381</th>\n",
       "      <td>57750.199220</td>\n",
       "    </tr>\n",
       "    <tr>\n",
       "      <th>2382</th>\n",
       "      <td>58917.691410</td>\n",
       "    </tr>\n",
       "    <tr>\n",
       "      <th>2383</th>\n",
       "      <td>58918.832030</td>\n",
       "    </tr>\n",
       "    <tr>\n",
       "      <th>2384</th>\n",
       "      <td>59095.808590</td>\n",
       "    </tr>\n",
       "  </tbody>\n",
       "</table>\n",
       "<p>2385 rows × 1 columns</p>\n",
       "</div>"
      ],
      "text/plain": [
       "      BTC-USD Price\n",
       "0        457.334015\n",
       "1        424.440002\n",
       "2        394.795990\n",
       "3        408.903992\n",
       "4        398.821014\n",
       "...             ...\n",
       "2380   55950.746090\n",
       "2381   57750.199220\n",
       "2382   58917.691410\n",
       "2383   58918.832030\n",
       "2384   59095.808590\n",
       "\n",
       "[2385 rows x 1 columns]"
      ]
     },
     "execution_count": 61,
     "metadata": {},
     "output_type": "execute_result"
    }
   ],
   "source": [
    "BTC_price_series"
   ]
  },
  {
   "cell_type": "code",
   "execution_count": 62,
   "metadata": {
    "executionInfo": {
     "elapsed": 3153,
     "status": "aborted",
     "timestamp": 1618858275604,
     "user": {
      "displayName": "Stemplicity",
      "photoUrl": "https://lh3.googleusercontent.com/a-/AOh14Gj2vCFt-bD5mPBhUWX0QA6xiBgoXQXtwUm2jgjaCg=s64",
      "userId": "10668071569687886186"
     },
     "user_tz": 240
    },
    "id": "NJXOLvacSjh9"
   },
   "outputs": [
    {
     "data": {
      "text/plain": [
       "pandas.core.frame.DataFrame"
      ]
     },
     "execution_count": 62,
     "metadata": {},
     "output_type": "execute_result"
    }
   ],
   "source": [
    "type(BTC_price_series)"
   ]
  },
  {
   "cell_type": "code",
   "execution_count": 63,
   "metadata": {
    "executionInfo": {
     "elapsed": 3145,
     "status": "aborted",
     "timestamp": 1618858275605,
     "user": {
      "displayName": "Stemplicity",
      "photoUrl": "https://lh3.googleusercontent.com/a-/AOh14Gj2vCFt-bD5mPBhUWX0QA6xiBgoXQXtwUm2jgjaCg=s64",
      "userId": "10668071569687886186"
     },
     "user_tz": 240
    },
    "id": "VqShdXDGSjnD"
   },
   "outputs": [
    {
     "data": {
      "text/plain": [
       "pandas.core.series.Series"
      ]
     },
     "execution_count": 63,
     "metadata": {},
     "output_type": "execute_result"
    }
   ],
   "source": [
    "BTC_price_series = pd.read_csv('crypto.csv', squeeze = True)\n",
    "type(BTC_price_series)"
   ]
  },
  {
   "cell_type": "markdown",
   "metadata": {
    "id": "c9aEM3KTT619"
   },
   "source": [
    "**MINI CHALLENGE #7 SOLUTION:**\n",
    "- **Given the following Pandas Series, convert all positive values to negative using python built-in functions**\n",
    "- **Obtain only unique values (ie: Remove duplicates) using python built-in functions**\n",
    "- my_series = pd.Series(data = [-10, 100, -30, 50, 100])\n"
   ]
  },
  {
   "cell_type": "code",
   "execution_count": 64,
   "metadata": {
    "executionInfo": {
     "elapsed": 3137,
     "status": "aborted",
     "timestamp": 1618858275606,
     "user": {
      "displayName": "Stemplicity",
      "photoUrl": "https://lh3.googleusercontent.com/a-/AOh14Gj2vCFt-bD5mPBhUWX0QA6xiBgoXQXtwUm2jgjaCg=s64",
      "userId": "10668071569687886186"
     },
     "user_tz": 240
    },
    "id": "VP5bBkaOUIpo"
   },
   "outputs": [
    {
     "data": {
      "text/plain": [
       "0    -10\n",
       "1    100\n",
       "2    -30\n",
       "3     50\n",
       "4    100\n",
       "dtype: int64"
      ]
     },
     "execution_count": 64,
     "metadata": {},
     "output_type": "execute_result"
    }
   ],
   "source": [
    "my_series = pd.Series(data = [-10, 100, -30, 50, 100])\n",
    "my_series"
   ]
  },
  {
   "cell_type": "code",
   "execution_count": 65,
   "metadata": {
    "executionInfo": {
     "elapsed": 3129,
     "status": "aborted",
     "timestamp": 1618858275606,
     "user": {
      "displayName": "Stemplicity",
      "photoUrl": "https://lh3.googleusercontent.com/a-/AOh14Gj2vCFt-bD5mPBhUWX0QA6xiBgoXQXtwUm2jgjaCg=s64",
      "userId": "10668071569687886186"
     },
     "user_tz": 240
    },
    "id": "NFKY2ZNRaQ-s"
   },
   "outputs": [
    {
     "data": {
      "text/plain": [
       "0     10\n",
       "1    100\n",
       "2     30\n",
       "3     50\n",
       "4    100\n",
       "dtype: int64"
      ]
     },
     "execution_count": 65,
     "metadata": {},
     "output_type": "execute_result"
    }
   ],
   "source": [
    "abs(my_series)"
   ]
  },
  {
   "cell_type": "code",
   "execution_count": 66,
   "metadata": {
    "executionInfo": {
     "elapsed": 3120,
     "status": "aborted",
     "timestamp": 1618858275607,
     "user": {
      "displayName": "Stemplicity",
      "photoUrl": "https://lh3.googleusercontent.com/a-/AOh14Gj2vCFt-bD5mPBhUWX0QA6xiBgoXQXtwUm2jgjaCg=s64",
      "userId": "10668071569687886186"
     },
     "user_tz": 240
    },
    "id": "xqWCYc0n6V-d"
   },
   "outputs": [
    {
     "data": {
      "text/plain": [
       "{-30, -10, 50, 100}"
      ]
     },
     "execution_count": 66,
     "metadata": {},
     "output_type": "execute_result"
    }
   ],
   "source": [
    "set(my_series)"
   ]
  },
  {
   "cell_type": "markdown",
   "metadata": {
    "id": "5hAgN4ITfwPZ"
   },
   "source": [
    "**MINI CHALLENGE #8 SOLUTION:**\n",
    "- **Sort the BTC_price_series values in a decending order instead. Make sure to update values in-memory.**"
   ]
  },
  {
   "cell_type": "code",
   "execution_count": 67,
   "metadata": {
    "executionInfo": {
     "elapsed": 3111,
     "status": "aborted",
     "timestamp": 1618858275607,
     "user": {
      "displayName": "Stemplicity",
      "photoUrl": "https://lh3.googleusercontent.com/a-/AOh14Gj2vCFt-bD5mPBhUWX0QA6xiBgoXQXtwUm2jgjaCg=s64",
      "userId": "10668071569687886186"
     },
     "user_tz": 240
    },
    "id": "XbMv5fujfwPa"
   },
   "outputs": [
    {
     "data": {
      "text/plain": [
       "2365    61243.085940\n",
       "2366    59302.316410\n",
       "2384    59095.808590\n",
       "2383    58918.832030\n",
       "2382    58917.691410\n",
       "            ...     \n",
       "123       210.339004\n",
       "120       209.843994\n",
       "121       208.097000\n",
       "122       199.259995\n",
       "119       178.102997\n",
       "Name: BTC-USD Price, Length: 2385, dtype: float64"
      ]
     },
     "execution_count": 67,
     "metadata": {},
     "output_type": "execute_result"
    }
   ],
   "source": [
    "BTC_price_series.sort_values(ascending = False, inplace = True) \n",
    "BTC_price_series"
   ]
  },
  {
   "cell_type": "markdown",
   "metadata": {
    "id": "BJJRSL5jlDlV"
   },
   "source": [
    "**MINI CHALLENGE #9 SOLUTION:**\n",
    "- **Obtain the average price using two different methods**"
   ]
  },
  {
   "cell_type": "code",
   "execution_count": 68,
   "metadata": {
    "executionInfo": {
     "elapsed": 3082,
     "status": "aborted",
     "timestamp": 1618858275608,
     "user": {
      "displayName": "Stemplicity",
      "photoUrl": "https://lh3.googleusercontent.com/a-/AOh14Gj2vCFt-bD5mPBhUWX0QA6xiBgoXQXtwUm2jgjaCg=s64",
      "userId": "10668071569687886186"
     },
     "user_tz": 240
    },
    "id": "PPjFgt5FlDlW"
   },
   "outputs": [
    {
     "data": {
      "text/plain": [
       "6471.857332852285"
      ]
     },
     "execution_count": 68,
     "metadata": {},
     "output_type": "execute_result"
    }
   ],
   "source": [
    "# Obtain the average - Solution #1\n",
    "BTC_price_series.sum()/BTC_price_series.count()"
   ]
  },
  {
   "cell_type": "code",
   "execution_count": 69,
   "metadata": {
    "executionInfo": {
     "elapsed": 3056,
     "status": "aborted",
     "timestamp": 1618858275609,
     "user": {
      "displayName": "Stemplicity",
      "photoUrl": "https://lh3.googleusercontent.com/a-/AOh14Gj2vCFt-bD5mPBhUWX0QA6xiBgoXQXtwUm2jgjaCg=s64",
      "userId": "10668071569687886186"
     },
     "user_tz": 240
    },
    "id": "P10NuBnslDlW"
   },
   "outputs": [
    {
     "data": {
      "text/plain": [
       "6471.857332852285"
      ]
     },
     "execution_count": 69,
     "metadata": {},
     "output_type": "execute_result"
    }
   ],
   "source": [
    "# Obtain the average - Solution #s\n",
    "BTC_price_series.mean()"
   ]
  },
  {
   "cell_type": "code",
   "execution_count": null,
   "metadata": {
    "executionInfo": {
     "elapsed": 3052,
     "status": "aborted",
     "timestamp": 1618858275609,
     "user": {
      "displayName": "Stemplicity",
      "photoUrl": "https://lh3.googleusercontent.com/a-/AOh14Gj2vCFt-bD5mPBhUWX0QA6xiBgoXQXtwUm2jgjaCg=s64",
      "userId": "10668071569687886186"
     },
     "user_tz": 240
    },
    "id": "TZkayhzAby14"
   },
   "outputs": [],
   "source": []
  },
  {
   "cell_type": "markdown",
   "metadata": {
    "id": "VUaaCo_5a8h0"
   },
   "source": [
    "**MINI CHALLENGE #10 SOLUTION:**\n",
    "- **Check if the stock price 399 exists in the BTC_price_series Pandas Series or not**\n",
    "- **Round stock prices to the nearest integer and check again**"
   ]
  },
  {
   "cell_type": "code",
   "execution_count": 70,
   "metadata": {
    "executionInfo": {
     "elapsed": 3043,
     "status": "aborted",
     "timestamp": 1618858275610,
     "user": {
      "displayName": "Stemplicity",
      "photoUrl": "https://lh3.googleusercontent.com/a-/AOh14Gj2vCFt-bD5mPBhUWX0QA6xiBgoXQXtwUm2jgjaCg=s64",
      "userId": "10668071569687886186"
     },
     "user_tz": 240
    },
    "id": "650WOhWVjMGx"
   },
   "outputs": [
    {
     "data": {
      "text/plain": [
       "False"
      ]
     },
     "execution_count": 70,
     "metadata": {},
     "output_type": "execute_result"
    }
   ],
   "source": [
    "399 in BTC_price_series.values"
   ]
  },
  {
   "cell_type": "code",
   "execution_count": 71,
   "metadata": {
    "executionInfo": {
     "elapsed": 3036,
     "status": "aborted",
     "timestamp": 1618858275611,
     "user": {
      "displayName": "Stemplicity",
      "photoUrl": "https://lh3.googleusercontent.com/a-/AOh14Gj2vCFt-bD5mPBhUWX0QA6xiBgoXQXtwUm2jgjaCg=s64",
      "userId": "10668071569687886186"
     },
     "user_tz": 240
    },
    "id": "8T7B5PhsbVB0"
   },
   "outputs": [
    {
     "data": {
      "text/plain": [
       "2365    61243.0\n",
       "2366    59302.0\n",
       "2384    59096.0\n",
       "2383    58919.0\n",
       "2382    58918.0\n",
       "         ...   \n",
       "123       210.0\n",
       "120       210.0\n",
       "121       208.0\n",
       "122       199.0\n",
       "119       178.0\n",
       "Name: BTC-USD Price, Length: 2385, dtype: float64"
      ]
     },
     "execution_count": 71,
     "metadata": {},
     "output_type": "execute_result"
    }
   ],
   "source": [
    "prices_series = round(BTC_price_series)\n",
    "prices_series"
   ]
  },
  {
   "cell_type": "code",
   "execution_count": 72,
   "metadata": {
    "executionInfo": {
     "elapsed": 3026,
     "status": "aborted",
     "timestamp": 1618858275611,
     "user": {
      "displayName": "Stemplicity",
      "photoUrl": "https://lh3.googleusercontent.com/a-/AOh14Gj2vCFt-bD5mPBhUWX0QA6xiBgoXQXtwUm2jgjaCg=s64",
      "userId": "10668071569687886186"
     },
     "user_tz": 240
    },
    "id": "Ads3YyW_bhVh"
   },
   "outputs": [
    {
     "data": {
      "text/plain": [
       "True"
      ]
     },
     "execution_count": 72,
     "metadata": {},
     "output_type": "execute_result"
    }
   ],
   "source": [
    "399 in prices_series.values"
   ]
  },
  {
   "cell_type": "code",
   "execution_count": null,
   "metadata": {},
   "outputs": [],
   "source": []
  },
  {
   "cell_type": "code",
   "execution_count": null,
   "metadata": {},
   "outputs": [],
   "source": []
  }
 ],
 "metadata": {
  "colab": {
   "authorship_tag": "ABX9TyP9Y/XANKrtczPMhh6Kukca",
   "collapsed_sections": [],
   "name": "1. Pandas Fundamentals - Series.ipynb",
   "provenance": [],
   "toc_visible": true
  },
  "kernelspec": {
   "display_name": "Python 3",
   "language": "python",
   "name": "python3"
  },
  "language_info": {
   "codemirror_mode": {
    "name": "ipython",
    "version": 3
   },
   "file_extension": ".py",
   "mimetype": "text/x-python",
   "name": "python",
   "nbconvert_exporter": "python",
   "pygments_lexer": "ipython3",
   "version": "3.10.9"
  },
  "vscode": {
   "interpreter": {
    "hash": "4092503eb903198f8e8af69867b338cfeb8865eb074f393970107bb815fd0932"
   }
  }
 },
 "nbformat": 4,
 "nbformat_minor": 1
}
