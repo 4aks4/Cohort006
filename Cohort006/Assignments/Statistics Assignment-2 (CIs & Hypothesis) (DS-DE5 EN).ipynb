{
 "cells": [
  {
   "attachments": {},
   "cell_type": "markdown",
   "metadata": {},
   "source": [
    "## Exercise 1"
   ]
  },
  {
   "cell_type": "code",
   "execution_count": 67,
   "metadata": {},
   "outputs": [],
   "source": [
    "import math\n",
    "import scipy.stats as stats\n",
    "import matplotlib.pyplot as plt\n",
    "import seaborn as sns"
   ]
  },
  {
   "cell_type": "code",
   "execution_count": 19,
   "metadata": {},
   "outputs": [
    {
     "name": "stdout",
     "output_type": "stream",
     "text": [
      "99% confidence interval: (98.09, 98.41)\n"
     ]
    }
   ],
   "source": [
    "sample_mean = 98.25\n",
    "std_dvt = 0.73\n",
    "sample_size = 130\n",
    "confidence_level = 0.99\n",
    "\n",
    "standard_error = std_dvt/math.sqrt(sample_size)\n",
    "margin_of_error = stats.norm.ppf((1 + confidence_level) / 2) * standard_error\n",
    "\n",
    "lower_bound = sample_mean - margin_of_error\n",
    "upper_bound = sample_mean + margin_of_error\n",
    "\n",
    "print(f\"99% confidence interval: ({lower_bound:.2f}, {upper_bound:.2f})\")"
   ]
  },
  {
   "attachments": {},
   "cell_type": "markdown",
   "metadata": {},
   "source": [
    "## Exercise 2"
   ]
  },
  {
   "cell_type": "code",
   "execution_count": 16,
   "metadata": {},
   "outputs": [
    {
     "name": "stdout",
     "output_type": "stream",
     "text": [
      "95% confidence interval: (5.13, 5.67)\n"
     ]
    }
   ],
   "source": [
    "sample_mean = 5.4\n",
    "std_dvt = 3.1\n",
    "sample_size = 500\n",
    "confidence_level = 0.95\n",
    "\n",
    "standard_error = std_dvt/math.sqrt(sample_size)\n",
    "margin_of_error = stats.norm.ppf((1 + confidence_level) / 2) * standard_error\n",
    "\n",
    "lower_bound = sample_mean - margin_of_error\n",
    "upper_bound = sample_mean + margin_of_error\n",
    "\n",
    "print(f\"95% confidence interval: ({lower_bound:.2f}, {upper_bound:.2f})\")"
   ]
  },
  {
   "attachments": {},
   "cell_type": "markdown",
   "metadata": {},
   "source": [
    "## Exercise 3\n"
   ]
  },
  {
   "cell_type": "code",
   "execution_count": 30,
   "metadata": {},
   "outputs": [
    {
     "name": "stdout",
     "output_type": "stream",
     "text": [
      "test statistic: -2.5298221281347035, pvalue= 0.005706018193000824\n"
     ]
    }
   ],
   "source": [
    "sample_mean = 12.20\n",
    "population_mean = 13.20\n",
    "std_dvt = 2.5\n",
    "alpha = .01\n",
    "sample_size = 40\n",
    "confidence_level = 0.99\n",
    "\n",
    "\n",
    "standard_error = std_dvt/math.sqrt(sample_size)\n",
    "test_statistic = (sample_mean - population_mean) / standard_error\n",
    "test_statistic\n",
    "p_value = stats.norm.sf(abs(test_statistic))\n",
    "\n",
    "\n",
    "print(f\"test statistic: {test_statistic}, pvalue= {p_value}\")\n"
   ]
  },
  {
   "attachments": {},
   "cell_type": "markdown",
   "metadata": {},
   "source": [
    "## Exercise 4\n"
   ]
  },
  {
   "cell_type": "code",
   "execution_count": 34,
   "metadata": {},
   "outputs": [],
   "source": [
    "import pandas as pd\n",
    "\n",
    "soil = pd.read_csv('soil - Sheet1.csv')"
   ]
  },
  {
   "cell_type": "code",
   "execution_count": 41,
   "metadata": {},
   "outputs": [
    {
     "data": {
      "text/plain": [
       "Ttest_indResult(statistic=5.1681473319343345, pvalue=2.59322873235282e-06)"
      ]
     },
     "execution_count": 41,
     "metadata": {},
     "output_type": "execute_result"
    }
   ],
   "source": [
    "stats.ttest_ind(soil.Soil1.dropna(), soil.Soil2.dropna())"
   ]
  },
  {
   "attachments": {},
   "cell_type": "markdown",
   "metadata": {},
   "source": [
    "## Exercise 5\n"
   ]
  },
  {
   "cell_type": "code",
   "execution_count": 74,
   "metadata": {},
   "outputs": [],
   "source": [
    "data = pd.read_csv('2015 PISA Test - Sheet1.csv')"
   ]
  },
  {
   "cell_type": "code",
   "execution_count": 45,
   "metadata": {},
   "outputs": [
    {
     "data": {
      "text/plain": [
       "Index(['Country Code', 'Continent_Code', 'internet_users_per_100', 'Math',\n",
       "       'Reading', 'Science'],\n",
       "      dtype='object')"
      ]
     },
     "execution_count": 45,
     "metadata": {},
     "output_type": "execute_result"
    }
   ],
   "source": [
    "data.columns"
   ]
  },
  {
   "cell_type": "code",
   "execution_count": 52,
   "metadata": {},
   "outputs": [
    {
     "data": {
      "text/html": [
       "<div>\n",
       "<style scoped>\n",
       "    .dataframe tbody tr th:only-of-type {\n",
       "        vertical-align: middle;\n",
       "    }\n",
       "\n",
       "    .dataframe tbody tr th {\n",
       "        vertical-align: top;\n",
       "    }\n",
       "\n",
       "    .dataframe thead th {\n",
       "        text-align: right;\n",
       "    }\n",
       "</style>\n",
       "<table border=\"1\" class=\"dataframe\">\n",
       "  <thead>\n",
       "    <tr style=\"text-align: right;\">\n",
       "      <th></th>\n",
       "      <th>Continent_Code</th>\n",
       "      <th>AF</th>\n",
       "      <th>AS</th>\n",
       "      <th>EU</th>\n",
       "      <th>OC</th>\n",
       "      <th>SA</th>\n",
       "    </tr>\n",
       "  </thead>\n",
       "  <tbody>\n",
       "    <tr>\n",
       "      <th rowspan=\"8\" valign=\"top\">internet_users_per_100</th>\n",
       "      <th>count</th>\n",
       "      <td>2.000000</td>\n",
       "      <td>17.000000</td>\n",
       "      <td>37.000000</td>\n",
       "      <td>2.000000</td>\n",
       "      <td>7.000000</td>\n",
       "    </tr>\n",
       "    <tr>\n",
       "      <th>mean</th>\n",
       "      <td>43.359918</td>\n",
       "      <td>68.455613</td>\n",
       "      <td>77.274888</td>\n",
       "      <td>86.391704</td>\n",
       "      <td>60.180494</td>\n",
       "    </tr>\n",
       "    <tr>\n",
       "      <th>std</th>\n",
       "      <td>7.297226</td>\n",
       "      <td>21.086060</td>\n",
       "      <td>12.425773</td>\n",
       "      <td>2.589686</td>\n",
       "      <td>9.772455</td>\n",
       "    </tr>\n",
       "    <tr>\n",
       "      <th>min</th>\n",
       "      <td>38.200000</td>\n",
       "      <td>21.976068</td>\n",
       "      <td>53.744979</td>\n",
       "      <td>84.560519</td>\n",
       "      <td>40.900000</td>\n",
       "    </tr>\n",
       "    <tr>\n",
       "      <th>25%</th>\n",
       "      <td>40.779959</td>\n",
       "      <td>50.300000</td>\n",
       "      <td>68.632900</td>\n",
       "      <td>85.476112</td>\n",
       "      <td>57.116462</td>\n",
       "    </tr>\n",
       "    <tr>\n",
       "      <th>50%</th>\n",
       "      <td>43.359918</td>\n",
       "      <td>74.000000</td>\n",
       "      <td>76.184000</td>\n",
       "      <td>86.391704</td>\n",
       "      <td>64.289000</td>\n",
       "    </tr>\n",
       "    <tr>\n",
       "      <th>75%</th>\n",
       "      <td>45.939877</td>\n",
       "      <td>84.948353</td>\n",
       "      <td>87.479056</td>\n",
       "      <td>87.307296</td>\n",
       "      <td>66.321532</td>\n",
       "    </tr>\n",
       "    <tr>\n",
       "      <th>max</th>\n",
       "      <td>48.519836</td>\n",
       "      <td>92.884826</td>\n",
       "      <td>98.200000</td>\n",
       "      <td>88.222889</td>\n",
       "      <td>69.198471</td>\n",
       "    </tr>\n",
       "    <tr>\n",
       "      <th rowspan=\"8\" valign=\"top\">Math</th>\n",
       "      <th>count</th>\n",
       "      <td>2.000000</td>\n",
       "      <td>17.000000</td>\n",
       "      <td>37.000000</td>\n",
       "      <td>2.000000</td>\n",
       "      <td>7.000000</td>\n",
       "    </tr>\n",
       "    <tr>\n",
       "      <th>mean</th>\n",
       "      <td>363.212100</td>\n",
       "      <td>466.216647</td>\n",
       "      <td>477.981449</td>\n",
       "      <td>494.559750</td>\n",
       "      <td>402.887700</td>\n",
       "    </tr>\n",
       "    <tr>\n",
       "      <th>std</th>\n",
       "      <td>5.099513</td>\n",
       "      <td>64.356490</td>\n",
       "      <td>35.150403</td>\n",
       "      <td>0.938401</td>\n",
       "      <td>18.128894</td>\n",
       "    </tr>\n",
       "    <tr>\n",
       "      <th>min</th>\n",
       "      <td>359.606200</td>\n",
       "      <td>380.259000</td>\n",
       "      <td>371.311400</td>\n",
       "      <td>493.896200</td>\n",
       "      <td>377.069500</td>\n",
       "    </tr>\n",
       "    <tr>\n",
       "      <th>25%</th>\n",
       "      <td>361.409150</td>\n",
       "      <td>403.833200</td>\n",
       "      <td>464.040100</td>\n",
       "      <td>494.227975</td>\n",
       "      <td>388.102200</td>\n",
       "    </tr>\n",
       "    <tr>\n",
       "      <th>50%</th>\n",
       "      <td>363.212100</td>\n",
       "      <td>459.816000</td>\n",
       "      <td>489.728700</td>\n",
       "      <td>494.559750</td>\n",
       "      <td>409.033300</td>\n",
       "    </tr>\n",
       "    <tr>\n",
       "      <th>75%</th>\n",
       "      <td>365.015050</td>\n",
       "      <td>531.296100</td>\n",
       "      <td>503.722000</td>\n",
       "      <td>494.891525</td>\n",
       "      <td>417.617650</td>\n",
       "    </tr>\n",
       "    <tr>\n",
       "      <th>max</th>\n",
       "      <td>366.818000</td>\n",
       "      <td>564.189700</td>\n",
       "      <td>521.250600</td>\n",
       "      <td>495.223300</td>\n",
       "      <td>422.671400</td>\n",
       "    </tr>\n",
       "    <tr>\n",
       "      <th rowspan=\"8\" valign=\"top\">Reading</th>\n",
       "      <th>count</th>\n",
       "      <td>2.000000</td>\n",
       "      <td>17.000000</td>\n",
       "      <td>37.000000</td>\n",
       "      <td>2.000000</td>\n",
       "      <td>7.000000</td>\n",
       "    </tr>\n",
       "    <tr>\n",
       "      <th>mean</th>\n",
       "      <td>355.457400</td>\n",
       "      <td>454.059682</td>\n",
       "      <td>476.164608</td>\n",
       "      <td>506.085650</td>\n",
       "      <td>425.359229</td>\n",
       "    </tr>\n",
       "    <tr>\n",
       "      <th>std</th>\n",
       "      <td>7.916909</td>\n",
       "      <td>57.048962</td>\n",
       "      <td>37.720545</td>\n",
       "      <td>4.504341</td>\n",
       "      <td>19.709688</td>\n",
       "    </tr>\n",
       "    <tr>\n",
       "      <th>min</th>\n",
       "      <td>349.859300</td>\n",
       "      <td>346.549000</td>\n",
       "      <td>351.741500</td>\n",
       "      <td>502.900600</td>\n",
       "      <td>397.541400</td>\n",
       "    </tr>\n",
       "    <tr>\n",
       "      <th>25%</th>\n",
       "      <td>352.658350</td>\n",
       "      <td>408.102200</td>\n",
       "      <td>452.514300</td>\n",
       "      <td>504.493125</td>\n",
       "      <td>416.126900</td>\n",
       "    </tr>\n",
       "    <tr>\n",
       "      <th>50%</th>\n",
       "      <td>355.457400</td>\n",
       "      <td>433.542300</td>\n",
       "      <td>487.250100</td>\n",
       "      <td>506.085650</td>\n",
       "      <td>425.303100</td>\n",
       "    </tr>\n",
       "    <tr>\n",
       "      <th>75%</th>\n",
       "      <td>358.256450</td>\n",
       "      <td>508.690500</td>\n",
       "      <td>499.814600</td>\n",
       "      <td>507.678175</td>\n",
       "      <td>431.922700</td>\n",
       "    </tr>\n",
       "    <tr>\n",
       "      <th>max</th>\n",
       "      <td>361.055500</td>\n",
       "      <td>535.100200</td>\n",
       "      <td>526.424700</td>\n",
       "      <td>509.270700</td>\n",
       "      <td>458.570900</td>\n",
       "    </tr>\n",
       "    <tr>\n",
       "      <th rowspan=\"8\" valign=\"top\">Science</th>\n",
       "      <th>count</th>\n",
       "      <td>2.000000</td>\n",
       "      <td>17.000000</td>\n",
       "      <td>37.000000</td>\n",
       "      <td>2.000000</td>\n",
       "      <td>7.000000</td>\n",
       "    </tr>\n",
       "    <tr>\n",
       "      <th>mean</th>\n",
       "      <td>381.074250</td>\n",
       "      <td>467.945847</td>\n",
       "      <td>478.299381</td>\n",
       "      <td>511.648700</td>\n",
       "      <td>421.747186</td>\n",
       "    </tr>\n",
       "    <tr>\n",
       "      <th>std</th>\n",
       "      <td>7.536556</td>\n",
       "      <td>56.671371</td>\n",
       "      <td>34.450616</td>\n",
       "      <td>2.340241</td>\n",
       "      <td>18.470319</td>\n",
       "    </tr>\n",
       "    <tr>\n",
       "      <th>min</th>\n",
       "      <td>375.745100</td>\n",
       "      <td>386.485400</td>\n",
       "      <td>383.682400</td>\n",
       "      <td>509.993900</td>\n",
       "      <td>396.683600</td>\n",
       "    </tr>\n",
       "    <tr>\n",
       "      <th>25%</th>\n",
       "      <td>378.409675</td>\n",
       "      <td>417.611200</td>\n",
       "      <td>460.774900</td>\n",
       "      <td>510.821300</td>\n",
       "      <td>408.205450</td>\n",
       "    </tr>\n",
       "    <tr>\n",
       "      <th>50%</th>\n",
       "      <td>381.074250</td>\n",
       "      <td>456.483600</td>\n",
       "      <td>490.225000</td>\n",
       "      <td>511.648700</td>\n",
       "      <td>424.590500</td>\n",
       "    </tr>\n",
       "    <tr>\n",
       "      <th>75%</th>\n",
       "      <td>383.738825</td>\n",
       "      <td>523.277400</td>\n",
       "      <td>501.936900</td>\n",
       "      <td>512.476100</td>\n",
       "      <td>433.794600</td>\n",
       "    </tr>\n",
       "    <tr>\n",
       "      <th>max</th>\n",
       "      <td>386.403400</td>\n",
       "      <td>555.574700</td>\n",
       "      <td>534.193700</td>\n",
       "      <td>513.303500</td>\n",
       "      <td>446.956100</td>\n",
       "    </tr>\n",
       "  </tbody>\n",
       "</table>\n",
       "</div>"
      ],
      "text/plain": [
       "Continent_Code                        AF          AS          EU          OC  \\\n",
       "internet_users_per_100 count    2.000000   17.000000   37.000000    2.000000   \n",
       "                       mean    43.359918   68.455613   77.274888   86.391704   \n",
       "                       std      7.297226   21.086060   12.425773    2.589686   \n",
       "                       min     38.200000   21.976068   53.744979   84.560519   \n",
       "                       25%     40.779959   50.300000   68.632900   85.476112   \n",
       "                       50%     43.359918   74.000000   76.184000   86.391704   \n",
       "                       75%     45.939877   84.948353   87.479056   87.307296   \n",
       "                       max     48.519836   92.884826   98.200000   88.222889   \n",
       "Math                   count    2.000000   17.000000   37.000000    2.000000   \n",
       "                       mean   363.212100  466.216647  477.981449  494.559750   \n",
       "                       std      5.099513   64.356490   35.150403    0.938401   \n",
       "                       min    359.606200  380.259000  371.311400  493.896200   \n",
       "                       25%    361.409150  403.833200  464.040100  494.227975   \n",
       "                       50%    363.212100  459.816000  489.728700  494.559750   \n",
       "                       75%    365.015050  531.296100  503.722000  494.891525   \n",
       "                       max    366.818000  564.189700  521.250600  495.223300   \n",
       "Reading                count    2.000000   17.000000   37.000000    2.000000   \n",
       "                       mean   355.457400  454.059682  476.164608  506.085650   \n",
       "                       std      7.916909   57.048962   37.720545    4.504341   \n",
       "                       min    349.859300  346.549000  351.741500  502.900600   \n",
       "                       25%    352.658350  408.102200  452.514300  504.493125   \n",
       "                       50%    355.457400  433.542300  487.250100  506.085650   \n",
       "                       75%    358.256450  508.690500  499.814600  507.678175   \n",
       "                       max    361.055500  535.100200  526.424700  509.270700   \n",
       "Science                count    2.000000   17.000000   37.000000    2.000000   \n",
       "                       mean   381.074250  467.945847  478.299381  511.648700   \n",
       "                       std      7.536556   56.671371   34.450616    2.340241   \n",
       "                       min    375.745100  386.485400  383.682400  509.993900   \n",
       "                       25%    378.409675  417.611200  460.774900  510.821300   \n",
       "                       50%    381.074250  456.483600  490.225000  511.648700   \n",
       "                       75%    383.738825  523.277400  501.936900  512.476100   \n",
       "                       max    386.403400  555.574700  534.193700  513.303500   \n",
       "\n",
       "Continent_Code                        SA  \n",
       "internet_users_per_100 count    7.000000  \n",
       "                       mean    60.180494  \n",
       "                       std      9.772455  \n",
       "                       min     40.900000  \n",
       "                       25%     57.116462  \n",
       "                       50%     64.289000  \n",
       "                       75%     66.321532  \n",
       "                       max     69.198471  \n",
       "Math                   count    7.000000  \n",
       "                       mean   402.887700  \n",
       "                       std     18.128894  \n",
       "                       min    377.069500  \n",
       "                       25%    388.102200  \n",
       "                       50%    409.033300  \n",
       "                       75%    417.617650  \n",
       "                       max    422.671400  \n",
       "Reading                count    7.000000  \n",
       "                       mean   425.359229  \n",
       "                       std     19.709688  \n",
       "                       min    397.541400  \n",
       "                       25%    416.126900  \n",
       "                       50%    425.303100  \n",
       "                       75%    431.922700  \n",
       "                       max    458.570900  \n",
       "Science                count    7.000000  \n",
       "                       mean   421.747186  \n",
       "                       std     18.470319  \n",
       "                       min    396.683600  \n",
       "                       25%    408.205450  \n",
       "                       50%    424.590500  \n",
       "                       75%    433.794600  \n",
       "                       max    446.956100  "
      ]
     },
     "execution_count": 52,
     "metadata": {},
     "output_type": "execute_result"
    }
   ],
   "source": [
    "data.groupby('Continent_Code').describe().T"
   ]
  },
  {
   "cell_type": "code",
   "execution_count": 57,
   "metadata": {},
   "outputs": [],
   "source": [
    "EU = data[data.Continent_Code=='EU'].Math\n",
    "\n",
    "AS = data[data.Continent_Code=='AS'].Math"
   ]
  },
  {
   "cell_type": "code",
   "execution_count": 58,
   "metadata": {},
   "outputs": [
    {
     "data": {
      "text/plain": [
       "Ttest_indResult(statistic=0.870055317967983, pvalue=0.38826888111307345)"
      ]
     },
     "execution_count": 58,
     "metadata": {},
     "output_type": "execute_result"
    }
   ],
   "source": [
    "stats.ttest_ind(EU, AS)"
   ]
  },
  {
   "cell_type": "code",
   "execution_count": 89,
   "metadata": {},
   "outputs": [
    {
     "data": {
      "image/png": "[encoded data removed]",
      "text/plain": [
       "<Figure size 550x400 with 1 Axes>"
      ]
     },
     "metadata": {},
     "output_type": "display_data"
    }
   ],
   "source": [
    "\n",
    "fig, ax = plt.subplots(figsize=(5.5,4))\n",
    "filtered_data = data[(data['Continent_Code'] == 'AS') | (data['Continent_Code'] == 'EU')]\n",
    "filtered_data\n",
    "sns.boxplot(x=filtered_data.Math, y=filtered_data.Continent_Code);"
   ]
  },
  {
   "cell_type": "markdown",
   "metadata": {},
   "source": []
  }
 ],
 "metadata": {
  "kernelspec": {
   "display_name": "Python 3",
   "language": "python",
   "name": "python3"
  },
  "language_info": {
   "codemirror_mode": {
    "name": "ipython",
    "version": 3
   },
   "file_extension": ".py",
   "mimetype": "text/x-python",
   "name": "python",
   "nbconvert_exporter": "python",
   "pygments_lexer": "ipython3",
   "version": "3.10.9"
  },
  "orig_nbformat": 4
 },
 "nbformat": 4,
 "nbformat_minor": 2
}
